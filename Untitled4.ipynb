{
  "nbformat": 4,
  "nbformat_minor": 0,
  "metadata": {
    "colab": {
      "provenance": [],
      "authorship_tag": "ABX9TyMg9BrxOWIjogG3NTzMR5GO",
      "include_colab_link": true
    },
    "kernelspec": {
      "name": "python3",
      "display_name": "Python 3"
    },
    "language_info": {
      "name": "python"
    }
  },
  "cells": [
    {
      "cell_type": "markdown",
      "metadata": {
        "id": "view-in-github",
        "colab_type": "text"
      },
      "source": [
        "<a href=\"https://colab.research.google.com/github/ErickAsencios/Pagina-web-cursoIA/blob/master/Untitled4.ipynb\" target=\"_parent\"><img src=\"https://colab.research.google.com/assets/colab-badge.svg\" alt=\"Open In Colab\"/></a>"
      ]
    },
    {
      "cell_type": "code",
      "execution_count": 1,
      "metadata": {
        "colab": {
          "base_uri": "https://localhost:8080/"
        },
        "id": "05W1dBT7HJmW",
        "outputId": "6ce93d35-50e4-4fdf-a8b0-962695da1cf5"
      },
      "outputs": [
        {
          "output_type": "stream",
          "name": "stdout",
          "text": [
            "Requirement already satisfied: pandas in /usr/local/lib/python3.10/dist-packages (2.1.4)\n",
            "Requirement already satisfied: scikit-learn in /usr/local/lib/python3.10/dist-packages (1.3.2)\n",
            "Requirement already satisfied: kaggle in /usr/local/lib/python3.10/dist-packages (1.6.17)\n",
            "Requirement already satisfied: numpy<2,>=1.22.4 in /usr/local/lib/python3.10/dist-packages (from pandas) (1.26.4)\n",
            "Requirement already satisfied: python-dateutil>=2.8.2 in /usr/local/lib/python3.10/dist-packages (from pandas) (2.8.2)\n",
            "Requirement already satisfied: pytz>=2020.1 in /usr/local/lib/python3.10/dist-packages (from pandas) (2024.1)\n",
            "Requirement already satisfied: tzdata>=2022.1 in /usr/local/lib/python3.10/dist-packages (from pandas) (2024.1)\n",
            "Requirement already satisfied: scipy>=1.5.0 in /usr/local/lib/python3.10/dist-packages (from scikit-learn) (1.13.1)\n",
            "Requirement already satisfied: joblib>=1.1.1 in /usr/local/lib/python3.10/dist-packages (from scikit-learn) (1.4.2)\n",
            "Requirement already satisfied: threadpoolctl>=2.0.0 in /usr/local/lib/python3.10/dist-packages (from scikit-learn) (3.5.0)\n",
            "Requirement already satisfied: six>=1.10 in /usr/local/lib/python3.10/dist-packages (from kaggle) (1.16.0)\n",
            "Requirement already satisfied: certifi>=2023.7.22 in /usr/local/lib/python3.10/dist-packages (from kaggle) (2024.7.4)\n",
            "Requirement already satisfied: requests in /usr/local/lib/python3.10/dist-packages (from kaggle) (2.32.3)\n",
            "Requirement already satisfied: tqdm in /usr/local/lib/python3.10/dist-packages (from kaggle) (4.66.5)\n",
            "Requirement already satisfied: python-slugify in /usr/local/lib/python3.10/dist-packages (from kaggle) (8.0.4)\n",
            "Requirement already satisfied: urllib3 in /usr/local/lib/python3.10/dist-packages (from kaggle) (2.0.7)\n",
            "Requirement already satisfied: bleach in /usr/local/lib/python3.10/dist-packages (from kaggle) (6.1.0)\n",
            "Requirement already satisfied: webencodings in /usr/local/lib/python3.10/dist-packages (from bleach->kaggle) (0.5.1)\n",
            "Requirement already satisfied: text-unidecode>=1.3 in /usr/local/lib/python3.10/dist-packages (from python-slugify->kaggle) (1.3)\n",
            "Requirement already satisfied: charset-normalizer<4,>=2 in /usr/local/lib/python3.10/dist-packages (from requests->kaggle) (3.3.2)\n",
            "Requirement already satisfied: idna<4,>=2.5 in /usr/local/lib/python3.10/dist-packages (from requests->kaggle) (3.8)\n"
          ]
        }
      ],
      "source": [
        "!pip install pandas scikit-learn kaggle\n"
      ]
    },
    {
      "cell_type": "code",
      "source": [
        "from google.colab import files\n",
        "files.upload()\n"
      ],
      "metadata": {
        "colab": {
          "base_uri": "https://localhost:8080/",
          "height": 91
        },
        "id": "Jb6qL6zvHSA3",
        "outputId": "aea729b6-bf5d-46c9-bac5-1749cf423297"
      },
      "execution_count": 2,
      "outputs": [
        {
          "output_type": "display_data",
          "data": {
            "text/plain": [
              "<IPython.core.display.HTML object>"
            ],
            "text/html": [
              "\n",
              "     <input type=\"file\" id=\"files-c03bcaf5-92b5-439c-b502-c2746f5f6882\" name=\"files[]\" multiple disabled\n",
              "        style=\"border:none\" />\n",
              "     <output id=\"result-c03bcaf5-92b5-439c-b502-c2746f5f6882\">\n",
              "      Upload widget is only available when the cell has been executed in the\n",
              "      current browser session. Please rerun this cell to enable.\n",
              "      </output>\n",
              "      <script>// Copyright 2017 Google LLC\n",
              "//\n",
              "// Licensed under the Apache License, Version 2.0 (the \"License\");\n",
              "// you may not use this file except in compliance with the License.\n",
              "// You may obtain a copy of the License at\n",
              "//\n",
              "//      http://www.apache.org/licenses/LICENSE-2.0\n",
              "//\n",
              "// Unless required by applicable law or agreed to in writing, software\n",
              "// distributed under the License is distributed on an \"AS IS\" BASIS,\n",
              "// WITHOUT WARRANTIES OR CONDITIONS OF ANY KIND, either express or implied.\n",
              "// See the License for the specific language governing permissions and\n",
              "// limitations under the License.\n",
              "\n",
              "/**\n",
              " * @fileoverview Helpers for google.colab Python module.\n",
              " */\n",
              "(function(scope) {\n",
              "function span(text, styleAttributes = {}) {\n",
              "  const element = document.createElement('span');\n",
              "  element.textContent = text;\n",
              "  for (const key of Object.keys(styleAttributes)) {\n",
              "    element.style[key] = styleAttributes[key];\n",
              "  }\n",
              "  return element;\n",
              "}\n",
              "\n",
              "// Max number of bytes which will be uploaded at a time.\n",
              "const MAX_PAYLOAD_SIZE = 100 * 1024;\n",
              "\n",
              "function _uploadFiles(inputId, outputId) {\n",
              "  const steps = uploadFilesStep(inputId, outputId);\n",
              "  const outputElement = document.getElementById(outputId);\n",
              "  // Cache steps on the outputElement to make it available for the next call\n",
              "  // to uploadFilesContinue from Python.\n",
              "  outputElement.steps = steps;\n",
              "\n",
              "  return _uploadFilesContinue(outputId);\n",
              "}\n",
              "\n",
              "// This is roughly an async generator (not supported in the browser yet),\n",
              "// where there are multiple asynchronous steps and the Python side is going\n",
              "// to poll for completion of each step.\n",
              "// This uses a Promise to block the python side on completion of each step,\n",
              "// then passes the result of the previous step as the input to the next step.\n",
              "function _uploadFilesContinue(outputId) {\n",
              "  const outputElement = document.getElementById(outputId);\n",
              "  const steps = outputElement.steps;\n",
              "\n",
              "  const next = steps.next(outputElement.lastPromiseValue);\n",
              "  return Promise.resolve(next.value.promise).then((value) => {\n",
              "    // Cache the last promise value to make it available to the next\n",
              "    // step of the generator.\n",
              "    outputElement.lastPromiseValue = value;\n",
              "    return next.value.response;\n",
              "  });\n",
              "}\n",
              "\n",
              "/**\n",
              " * Generator function which is called between each async step of the upload\n",
              " * process.\n",
              " * @param {string} inputId Element ID of the input file picker element.\n",
              " * @param {string} outputId Element ID of the output display.\n",
              " * @return {!Iterable<!Object>} Iterable of next steps.\n",
              " */\n",
              "function* uploadFilesStep(inputId, outputId) {\n",
              "  const inputElement = document.getElementById(inputId);\n",
              "  inputElement.disabled = false;\n",
              "\n",
              "  const outputElement = document.getElementById(outputId);\n",
              "  outputElement.innerHTML = '';\n",
              "\n",
              "  const pickedPromise = new Promise((resolve) => {\n",
              "    inputElement.addEventListener('change', (e) => {\n",
              "      resolve(e.target.files);\n",
              "    });\n",
              "  });\n",
              "\n",
              "  const cancel = document.createElement('button');\n",
              "  inputElement.parentElement.appendChild(cancel);\n",
              "  cancel.textContent = 'Cancel upload';\n",
              "  const cancelPromise = new Promise((resolve) => {\n",
              "    cancel.onclick = () => {\n",
              "      resolve(null);\n",
              "    };\n",
              "  });\n",
              "\n",
              "  // Wait for the user to pick the files.\n",
              "  const files = yield {\n",
              "    promise: Promise.race([pickedPromise, cancelPromise]),\n",
              "    response: {\n",
              "      action: 'starting',\n",
              "    }\n",
              "  };\n",
              "\n",
              "  cancel.remove();\n",
              "\n",
              "  // Disable the input element since further picks are not allowed.\n",
              "  inputElement.disabled = true;\n",
              "\n",
              "  if (!files) {\n",
              "    return {\n",
              "      response: {\n",
              "        action: 'complete',\n",
              "      }\n",
              "    };\n",
              "  }\n",
              "\n",
              "  for (const file of files) {\n",
              "    const li = document.createElement('li');\n",
              "    li.append(span(file.name, {fontWeight: 'bold'}));\n",
              "    li.append(span(\n",
              "        `(${file.type || 'n/a'}) - ${file.size} bytes, ` +\n",
              "        `last modified: ${\n",
              "            file.lastModifiedDate ? file.lastModifiedDate.toLocaleDateString() :\n",
              "                                    'n/a'} - `));\n",
              "    const percent = span('0% done');\n",
              "    li.appendChild(percent);\n",
              "\n",
              "    outputElement.appendChild(li);\n",
              "\n",
              "    const fileDataPromise = new Promise((resolve) => {\n",
              "      const reader = new FileReader();\n",
              "      reader.onload = (e) => {\n",
              "        resolve(e.target.result);\n",
              "      };\n",
              "      reader.readAsArrayBuffer(file);\n",
              "    });\n",
              "    // Wait for the data to be ready.\n",
              "    let fileData = yield {\n",
              "      promise: fileDataPromise,\n",
              "      response: {\n",
              "        action: 'continue',\n",
              "      }\n",
              "    };\n",
              "\n",
              "    // Use a chunked sending to avoid message size limits. See b/62115660.\n",
              "    let position = 0;\n",
              "    do {\n",
              "      const length = Math.min(fileData.byteLength - position, MAX_PAYLOAD_SIZE);\n",
              "      const chunk = new Uint8Array(fileData, position, length);\n",
              "      position += length;\n",
              "\n",
              "      const base64 = btoa(String.fromCharCode.apply(null, chunk));\n",
              "      yield {\n",
              "        response: {\n",
              "          action: 'append',\n",
              "          file: file.name,\n",
              "          data: base64,\n",
              "        },\n",
              "      };\n",
              "\n",
              "      let percentDone = fileData.byteLength === 0 ?\n",
              "          100 :\n",
              "          Math.round((position / fileData.byteLength) * 100);\n",
              "      percent.textContent = `${percentDone}% done`;\n",
              "\n",
              "    } while (position < fileData.byteLength);\n",
              "  }\n",
              "\n",
              "  // All done.\n",
              "  yield {\n",
              "    response: {\n",
              "      action: 'complete',\n",
              "    }\n",
              "  };\n",
              "}\n",
              "\n",
              "scope.google = scope.google || {};\n",
              "scope.google.colab = scope.google.colab || {};\n",
              "scope.google.colab._files = {\n",
              "  _uploadFiles,\n",
              "  _uploadFilesContinue,\n",
              "};\n",
              "})(self);\n",
              "</script> "
            ]
          },
          "metadata": {}
        },
        {
          "output_type": "stream",
          "name": "stdout",
          "text": [
            "Saving kaggle.json to kaggle.json\n"
          ]
        },
        {
          "output_type": "execute_result",
          "data": {
            "text/plain": [
              "{'kaggle.json': b'{\"username\":\"erick27109\",\"key\":\"86b7cc2721a4d3a2e0e6348b68c7b214\"}'}"
            ]
          },
          "metadata": {},
          "execution_count": 2
        }
      ]
    },
    {
      "cell_type": "code",
      "source": [
        "!mkdir -p ~/.kaggle\n",
        "!cp kaggle.json ~/.kaggle/\n",
        "!chmod 600 ~/.kaggle/kaggle.json\n"
      ],
      "metadata": {
        "id": "rS9xRfIFH2dC"
      },
      "execution_count": 3,
      "outputs": []
    },
    {
      "cell_type": "code",
      "source": [
        "!kaggle datasets download -d whenamancodes/data-science-fields-salary-categorization\n",
        "!unzip data-science-fields-salary-categorization.zip\n"
      ],
      "metadata": {
        "colab": {
          "base_uri": "https://localhost:8080/"
        },
        "id": "scwZ6eBIH5YV",
        "outputId": "1149f7b5-902b-4fc9-8887-52d47c6f9a0b"
      },
      "execution_count": 4,
      "outputs": [
        {
          "output_type": "stream",
          "name": "stdout",
          "text": [
            "Dataset URL: https://www.kaggle.com/datasets/whenamancodes/data-science-fields-salary-categorization\n",
            "License(s): CC0-1.0\n",
            "Downloading data-science-fields-salary-categorization.zip to /content\n",
            "  0% 0.00/7.23k [00:00<?, ?B/s]\n",
            "100% 7.23k/7.23k [00:00<00:00, 17.5MB/s]\n",
            "Archive:  data-science-fields-salary-categorization.zip\n",
            "  inflating: Data_Science_Fields_Salary_Categorization.csv  \n"
          ]
        }
      ]
    },
    {
      "cell_type": "code",
      "source": [
        "import pandas as pd\n",
        "from sklearn.model_selection import train_test_split\n",
        "from sklearn.tree import DecisionTreeClassifier\n",
        "from sklearn.metrics import classification_report, confusion_matrix, accuracy_score\n"
      ],
      "metadata": {
        "id": "Gb75W53DH--E"
      },
      "execution_count": 5,
      "outputs": []
    },
    {
      "cell_type": "code",
      "source": [
        "df = pd.read_csv(\"Data_Science_Fields_Salary_Categorization.csv\")\n",
        "print(df.head())  # Verifica que los datos se hayan cargado correctamente\n"
      ],
      "metadata": {
        "colab": {
          "base_uri": "https://localhost:8080/"
        },
        "id": "YD-MV1jYIC57",
        "outputId": "40a5bef0-e1b4-423b-a190-2c706ebaa705"
      },
      "execution_count": 8,
      "outputs": [
        {
          "output_type": "stream",
          "name": "stdout",
          "text": [
            "   Unnamed: 0  Working_Year                 Designation Experience  \\\n",
            "0           1          2020              Data Scientist         MI   \n",
            "1           2          2020  Machine Learning Scientist         SE   \n",
            "2           3          2020           Big Data Engineer         SE   \n",
            "3           4          2020        Product Data Analyst         MI   \n",
            "4           5          2020   Machine Learning Engineer         SE   \n",
            "\n",
            "  Employment_Status Salary_In_Rupees Employee_Location Company_Location  \\\n",
            "0                FT     6,352,272.00                DE               DE   \n",
            "1                FT    20,688,070.00                JP               JP   \n",
            "2                FT     8,674,985.00                GB               GB   \n",
            "3                FT     1,591,390.00                HN               HN   \n",
            "4                FT    11,935,425.00                US               US   \n",
            "\n",
            "  Company_Size  Remote_Working_Ratio  \n",
            "0            L                     0  \n",
            "1            S                     0  \n",
            "2            M                    50  \n",
            "3            S                     0  \n",
            "4            L                    50  \n"
          ]
        }
      ]
    },
    {
      "cell_type": "code",
      "source": [
        "print(df.isnull().sum())  # Verifica si hay valores nulos\n",
        "df = df.dropna()  # Elimina las filas con valores nulos, si las hay\n"
      ],
      "metadata": {
        "colab": {
          "base_uri": "https://localhost:8080/"
        },
        "id": "-5ymS2-EJXfi",
        "outputId": "5168a01f-b202-44ea-bda7-c0cc63eb715e"
      },
      "execution_count": 9,
      "outputs": [
        {
          "output_type": "stream",
          "name": "stdout",
          "text": [
            "Unnamed: 0              0\n",
            "Working_Year            0\n",
            "Designation             0\n",
            "Experience              0\n",
            "Employment_Status       0\n",
            "Salary_In_Rupees        0\n",
            "Employee_Location       0\n",
            "Company_Location        0\n",
            "Company_Size            0\n",
            "Remote_Working_Ratio    0\n",
            "dtype: int64\n"
          ]
        }
      ]
    },
    {
      "cell_type": "code",
      "source": [
        "df = pd.get_dummies(df, drop_first=True)  # Convierte las variables categóricas en dummies (variables ficticias)\n"
      ],
      "metadata": {
        "id": "K2MfXKjQJnap"
      },
      "execution_count": 10,
      "outputs": []
    },
    {
      "cell_type": "code",
      "source": [
        "X = df.drop('Remote_Working_Ratio', axis=1)\n",
        "y = df['Remote_Working_Ratio']\n"
      ],
      "metadata": {
        "id": "FvOiOA_2Jp0C"
      },
      "execution_count": 15,
      "outputs": []
    },
    {
      "cell_type": "code",
      "source": [
        "print(df.columns)\n"
      ],
      "metadata": {
        "colab": {
          "base_uri": "https://localhost:8080/"
        },
        "id": "UKpU3TiIKtDh",
        "outputId": "424e62d5-8239-4305-b29c-f6c8a1971445"
      },
      "execution_count": 14,
      "outputs": [
        {
          "output_type": "stream",
          "name": "stdout",
          "text": [
            "Index(['Unnamed: 0', 'Working_Year', 'Remote_Working_Ratio',\n",
            "       'Designation_AI Scientist', 'Designation_Analytics Engineer',\n",
            "       'Designation_Applied Data Scientist',\n",
            "       'Designation_Applied Machine Learning Scientist',\n",
            "       'Designation_BI Data Analyst', 'Designation_Big Data Architect',\n",
            "       'Designation_Big Data Engineer',\n",
            "       ...\n",
            "       'Company_Location_RO', 'Company_Location_RU', 'Company_Location_SG',\n",
            "       'Company_Location_SI', 'Company_Location_TR', 'Company_Location_UA',\n",
            "       'Company_Location_US', 'Company_Location_VN', 'Company_Size_M',\n",
            "       'Company_Size_S'],\n",
            "      dtype='object', length=533)\n"
          ]
        }
      ]
    },
    {
      "cell_type": "code",
      "source": [
        "X_train, X_test, y_train, y_test = train_test_split(X, y, test_size=0.3, random_state=42)\n"
      ],
      "metadata": {
        "id": "K1a3NINnLW9O"
      },
      "execution_count": 16,
      "outputs": []
    },
    {
      "cell_type": "code",
      "source": [
        "clf = DecisionTreeClassifier(max_depth=5, random_state=42)\n",
        "clf.fit(X_train, y_train)\n"
      ],
      "metadata": {
        "colab": {
          "base_uri": "https://localhost:8080/",
          "height": 75
        },
        "id": "LJpFIrNPLYbE",
        "outputId": "58ae6bbd-480c-435d-fb5a-37f48ca87b6a"
      },
      "execution_count": 17,
      "outputs": [
        {
          "output_type": "execute_result",
          "data": {
            "text/plain": [
              "DecisionTreeClassifier(max_depth=5, random_state=42)"
            ],
            "text/html": [
              "<style>#sk-container-id-1 {color: black;}#sk-container-id-1 pre{padding: 0;}#sk-container-id-1 div.sk-toggleable {background-color: white;}#sk-container-id-1 label.sk-toggleable__label {cursor: pointer;display: block;width: 100%;margin-bottom: 0;padding: 0.3em;box-sizing: border-box;text-align: center;}#sk-container-id-1 label.sk-toggleable__label-arrow:before {content: \"▸\";float: left;margin-right: 0.25em;color: #696969;}#sk-container-id-1 label.sk-toggleable__label-arrow:hover:before {color: black;}#sk-container-id-1 div.sk-estimator:hover label.sk-toggleable__label-arrow:before {color: black;}#sk-container-id-1 div.sk-toggleable__content {max-height: 0;max-width: 0;overflow: hidden;text-align: left;background-color: #f0f8ff;}#sk-container-id-1 div.sk-toggleable__content pre {margin: 0.2em;color: black;border-radius: 0.25em;background-color: #f0f8ff;}#sk-container-id-1 input.sk-toggleable__control:checked~div.sk-toggleable__content {max-height: 200px;max-width: 100%;overflow: auto;}#sk-container-id-1 input.sk-toggleable__control:checked~label.sk-toggleable__label-arrow:before {content: \"▾\";}#sk-container-id-1 div.sk-estimator input.sk-toggleable__control:checked~label.sk-toggleable__label {background-color: #d4ebff;}#sk-container-id-1 div.sk-label input.sk-toggleable__control:checked~label.sk-toggleable__label {background-color: #d4ebff;}#sk-container-id-1 input.sk-hidden--visually {border: 0;clip: rect(1px 1px 1px 1px);clip: rect(1px, 1px, 1px, 1px);height: 1px;margin: -1px;overflow: hidden;padding: 0;position: absolute;width: 1px;}#sk-container-id-1 div.sk-estimator {font-family: monospace;background-color: #f0f8ff;border: 1px dotted black;border-radius: 0.25em;box-sizing: border-box;margin-bottom: 0.5em;}#sk-container-id-1 div.sk-estimator:hover {background-color: #d4ebff;}#sk-container-id-1 div.sk-parallel-item::after {content: \"\";width: 100%;border-bottom: 1px solid gray;flex-grow: 1;}#sk-container-id-1 div.sk-label:hover label.sk-toggleable__label {background-color: #d4ebff;}#sk-container-id-1 div.sk-serial::before {content: \"\";position: absolute;border-left: 1px solid gray;box-sizing: border-box;top: 0;bottom: 0;left: 50%;z-index: 0;}#sk-container-id-1 div.sk-serial {display: flex;flex-direction: column;align-items: center;background-color: white;padding-right: 0.2em;padding-left: 0.2em;position: relative;}#sk-container-id-1 div.sk-item {position: relative;z-index: 1;}#sk-container-id-1 div.sk-parallel {display: flex;align-items: stretch;justify-content: center;background-color: white;position: relative;}#sk-container-id-1 div.sk-item::before, #sk-container-id-1 div.sk-parallel-item::before {content: \"\";position: absolute;border-left: 1px solid gray;box-sizing: border-box;top: 0;bottom: 0;left: 50%;z-index: -1;}#sk-container-id-1 div.sk-parallel-item {display: flex;flex-direction: column;z-index: 1;position: relative;background-color: white;}#sk-container-id-1 div.sk-parallel-item:first-child::after {align-self: flex-end;width: 50%;}#sk-container-id-1 div.sk-parallel-item:last-child::after {align-self: flex-start;width: 50%;}#sk-container-id-1 div.sk-parallel-item:only-child::after {width: 0;}#sk-container-id-1 div.sk-dashed-wrapped {border: 1px dashed gray;margin: 0 0.4em 0.5em 0.4em;box-sizing: border-box;padding-bottom: 0.4em;background-color: white;}#sk-container-id-1 div.sk-label label {font-family: monospace;font-weight: bold;display: inline-block;line-height: 1.2em;}#sk-container-id-1 div.sk-label-container {text-align: center;}#sk-container-id-1 div.sk-container {/* jupyter's `normalize.less` sets `[hidden] { display: none; }` but bootstrap.min.css set `[hidden] { display: none !important; }` so we also need the `!important` here to be able to override the default hidden behavior on the sphinx rendered scikit-learn.org. See: https://github.com/scikit-learn/scikit-learn/issues/21755 */display: inline-block !important;position: relative;}#sk-container-id-1 div.sk-text-repr-fallback {display: none;}</style><div id=\"sk-container-id-1\" class=\"sk-top-container\"><div class=\"sk-text-repr-fallback\"><pre>DecisionTreeClassifier(max_depth=5, random_state=42)</pre><b>In a Jupyter environment, please rerun this cell to show the HTML representation or trust the notebook. <br />On GitHub, the HTML representation is unable to render, please try loading this page with nbviewer.org.</b></div><div class=\"sk-container\" hidden><div class=\"sk-item\"><div class=\"sk-estimator sk-toggleable\"><input class=\"sk-toggleable__control sk-hidden--visually\" id=\"sk-estimator-id-1\" type=\"checkbox\" checked><label for=\"sk-estimator-id-1\" class=\"sk-toggleable__label sk-toggleable__label-arrow\">DecisionTreeClassifier</label><div class=\"sk-toggleable__content\"><pre>DecisionTreeClassifier(max_depth=5, random_state=42)</pre></div></div></div></div></div>"
            ]
          },
          "metadata": {},
          "execution_count": 17
        }
      ]
    },
    {
      "cell_type": "code",
      "source": [
        "y_pred = clf.predict(X_test)\n"
      ],
      "metadata": {
        "id": "UHpMTUp_MD_O"
      },
      "execution_count": 18,
      "outputs": []
    },
    {
      "cell_type": "code",
      "source": [
        "print(confusion_matrix(y_test, y_pred))\n",
        "print(classification_report(y_test, y_pred))\n",
        "print(f\"Accuracy: {accuracy_score(y_test, y_pred)}\")\n"
      ],
      "metadata": {
        "colab": {
          "base_uri": "https://localhost:8080/"
        },
        "id": "CGeJarc3MFG-",
        "outputId": "66c516aa-557a-4348-b79e-5555dba26d3a"
      },
      "execution_count": 19,
      "outputs": [
        {
          "output_type": "stream",
          "name": "stdout",
          "text": [
            "[[ 8  7 18]\n",
            " [ 2 24 10]\n",
            " [ 2 18 94]]\n",
            "              precision    recall  f1-score   support\n",
            "\n",
            "           0       0.67      0.24      0.36        33\n",
            "          50       0.49      0.67      0.56        36\n",
            "         100       0.77      0.82      0.80       114\n",
            "\n",
            "    accuracy                           0.69       183\n",
            "   macro avg       0.64      0.58      0.57       183\n",
            "weighted avg       0.70      0.69      0.67       183\n",
            "\n",
            "Accuracy: 0.6885245901639344\n"
          ]
        }
      ]
    },
    {
      "cell_type": "code",
      "source": [
        "dot_data = export_graphviz(clf, out_file=None,\n",
        "                           feature_names=X.columns,\n",
        "                           class_names=[str(cls) for cls in clf.classes_],  # Convertir clases a strings\n",
        "                           filled=True, rounded=True,\n",
        "                           special_characters=True)\n",
        "\n"
      ],
      "metadata": {
        "id": "DlOXxe6gMK3R"
      },
      "execution_count": 21,
      "outputs": []
    },
    {
      "cell_type": "code",
      "source": [
        "import graphviz\n",
        "graph = graphviz.Source(dot_data)\n",
        "graph.render(\"decision_tree\")\n",
        "graph\n"
      ],
      "metadata": {
        "colab": {
          "base_uri": "https://localhost:8080/",
          "height": 936
        },
        "id": "YXL_fTR7M-ps",
        "outputId": "5bf75575-3998-4e7f-eb2f-8bab1692f654"
      },
      "execution_count": 22,
      "outputs": [
        {
          "output_type": "execute_result",
          "data": {
            "image/svg+xml": "<?xml version=\"1.0\" encoding=\"UTF-8\" standalone=\"no\"?>\n<!DOCTYPE svg PUBLIC \"-//W3C//DTD SVG 1.1//EN\"\n \"http://www.w3.org/Graphics/SVG/1.1/DTD/svg11.dtd\">\n<!-- Generated by graphviz version 2.43.0 (0)\n -->\n<!-- Title: Tree Pages: 1 -->\n<svg width=\"2414pt\" height=\"671pt\"\n viewBox=\"0.00 0.00 2414.00 671.00\" xmlns=\"http://www.w3.org/2000/svg\" xmlns:xlink=\"http://www.w3.org/1999/xlink\">\n<g id=\"graph0\" class=\"graph\" transform=\"scale(1 1) rotate(0) translate(4 667)\">\n<title>Tree</title>\n<polygon fill=\"white\" stroke=\"transparent\" points=\"-4,4 -4,-667 2410,-667 2410,4 -4,4\"/>\n<!-- 0 -->\n<g id=\"node1\" class=\"node\">\n<title>0</title>\n<path fill=\"#bd97f1\" stroke=\"black\" d=\"M1472,-663C1472,-663 1302,-663 1302,-663 1296,-663 1290,-657 1290,-651 1290,-651 1290,-592 1290,-592 1290,-586 1296,-580 1302,-580 1302,-580 1472,-580 1472,-580 1478,-580 1484,-586 1484,-592 1484,-592 1484,-651 1484,-651 1484,-657 1478,-663 1472,-663\"/>\n<text text-anchor=\"start\" x=\"1298\" y=\"-647.8\" font-family=\"Helvetica,sans-Serif\" font-size=\"14.00\">Company_Location_US ≤ 0.5</text>\n<text text-anchor=\"start\" x=\"1351.5\" y=\"-632.8\" font-family=\"Helvetica,sans-Serif\" font-size=\"14.00\">gini = 0.532</text>\n<text text-anchor=\"start\" x=\"1342\" y=\"-617.8\" font-family=\"Helvetica,sans-Serif\" font-size=\"14.00\">samples = 424</text>\n<text text-anchor=\"start\" x=\"1325\" y=\"-602.8\" font-family=\"Helvetica,sans-Serif\" font-size=\"14.00\">value = [94, 63, 267]</text>\n<text text-anchor=\"start\" x=\"1352\" y=\"-587.8\" font-family=\"Helvetica,sans-Serif\" font-size=\"14.00\">class = 100</text>\n</g>\n<!-- 1 -->\n<g id=\"node2\" class=\"node\">\n<title>1</title>\n<path fill=\"#dbc7f8\" stroke=\"black\" d=\"M1166,-544C1166,-544 1050,-544 1050,-544 1044,-544 1038,-538 1038,-532 1038,-532 1038,-473 1038,-473 1038,-467 1044,-461 1050,-461 1050,-461 1166,-461 1166,-461 1172,-461 1178,-467 1178,-473 1178,-473 1178,-532 1178,-532 1178,-538 1172,-544 1166,-544\"/>\n<text text-anchor=\"start\" x=\"1046\" y=\"-528.8\" font-family=\"Helvetica,sans-Serif\" font-size=\"14.00\">Unnamed: 0 ≤ 295.0</text>\n<text text-anchor=\"start\" x=\"1072.5\" y=\"-513.8\" font-family=\"Helvetica,sans-Serif\" font-size=\"14.00\">gini = 0.631</text>\n<text text-anchor=\"start\" x=\"1063\" y=\"-498.8\" font-family=\"Helvetica,sans-Serif\" font-size=\"14.00\">samples = 171</text>\n<text text-anchor=\"start\" x=\"1050\" y=\"-483.8\" font-family=\"Helvetica,sans-Serif\" font-size=\"14.00\">value = [40, 48, 83]</text>\n<text text-anchor=\"start\" x=\"1073\" y=\"-468.8\" font-family=\"Helvetica,sans-Serif\" font-size=\"14.00\">class = 100</text>\n</g>\n<!-- 0&#45;&gt;1 -->\n<g id=\"edge1\" class=\"edge\">\n<title>0&#45;&gt;1</title>\n<path fill=\"none\" stroke=\"black\" d=\"M1290.2,-579.91C1256.68,-565.85 1219.52,-550.27 1187.55,-536.86\"/>\n<polygon fill=\"black\" stroke=\"black\" points=\"1188.82,-533.6 1178.24,-532.96 1186.11,-540.05 1188.82,-533.6\"/>\n<text text-anchor=\"middle\" x=\"1187.71\" y=\"-552.4\" font-family=\"Helvetica,sans-Serif\" font-size=\"14.00\">True</text>\n</g>\n<!-- 24 -->\n<g id=\"node25\" class=\"node\">\n<title>24</title>\n<path fill=\"#ad7eee\" stroke=\"black\" d=\"M1815.5,-544C1815.5,-544 1584.5,-544 1584.5,-544 1578.5,-544 1572.5,-538 1572.5,-532 1572.5,-532 1572.5,-473 1572.5,-473 1572.5,-467 1578.5,-461 1584.5,-461 1584.5,-461 1815.5,-461 1815.5,-461 1821.5,-461 1827.5,-467 1827.5,-473 1827.5,-473 1827.5,-532 1827.5,-532 1827.5,-538 1821.5,-544 1815.5,-544\"/>\n<text text-anchor=\"start\" x=\"1580.5\" y=\"-528.8\" font-family=\"Helvetica,sans-Serif\" font-size=\"14.00\">Salary_In_Rupees_16,335,618.00 ≤ 0.5</text>\n<text text-anchor=\"start\" x=\"1664.5\" y=\"-513.8\" font-family=\"Helvetica,sans-Serif\" font-size=\"14.00\">gini = 0.422</text>\n<text text-anchor=\"start\" x=\"1655\" y=\"-498.8\" font-family=\"Helvetica,sans-Serif\" font-size=\"14.00\">samples = 253</text>\n<text text-anchor=\"start\" x=\"1638\" y=\"-483.8\" font-family=\"Helvetica,sans-Serif\" font-size=\"14.00\">value = [54, 15, 184]</text>\n<text text-anchor=\"start\" x=\"1665\" y=\"-468.8\" font-family=\"Helvetica,sans-Serif\" font-size=\"14.00\">class = 100</text>\n</g>\n<!-- 0&#45;&gt;24 -->\n<g id=\"edge24\" class=\"edge\">\n<title>0&#45;&gt;24</title>\n<path fill=\"none\" stroke=\"black\" d=\"M1484.32,-584.12C1515.27,-572.55 1549.84,-559.63 1582.09,-547.58\"/>\n<polygon fill=\"black\" stroke=\"black\" points=\"1583.42,-550.81 1591.56,-544.03 1580.97,-544.26 1583.42,-550.81\"/>\n<text text-anchor=\"middle\" x=\"1581.19\" y=\"-563.08\" font-family=\"Helvetica,sans-Serif\" font-size=\"14.00\">False</text>\n</g>\n<!-- 2 -->\n<g id=\"node3\" class=\"node\">\n<title>2</title>\n<path fill=\"#ffffff\" stroke=\"black\" d=\"M545,-425C545,-425 437,-425 437,-425 431,-425 425,-419 425,-413 425,-413 425,-354 425,-354 425,-348 431,-342 437,-342 437,-342 545,-342 545,-342 551,-342 557,-348 557,-354 557,-354 557,-413 557,-413 557,-419 551,-425 545,-425\"/>\n<text text-anchor=\"start\" x=\"433\" y=\"-409.8\" font-family=\"Helvetica,sans-Serif\" font-size=\"14.00\">Unnamed: 0 ≤ 15.0</text>\n<text text-anchor=\"start\" x=\"455.5\" y=\"-394.8\" font-family=\"Helvetica,sans-Serif\" font-size=\"14.00\">gini = 0.637</text>\n<text text-anchor=\"start\" x=\"446\" y=\"-379.8\" font-family=\"Helvetica,sans-Serif\" font-size=\"14.00\">samples = 104</text>\n<text text-anchor=\"start\" x=\"433\" y=\"-364.8\" font-family=\"Helvetica,sans-Serif\" font-size=\"14.00\">value = [20, 42, 42]</text>\n<text text-anchor=\"start\" x=\"460\" y=\"-349.8\" font-family=\"Helvetica,sans-Serif\" font-size=\"14.00\">class = 50</text>\n</g>\n<!-- 1&#45;&gt;2 -->\n<g id=\"edge2\" class=\"edge\">\n<title>1&#45;&gt;2</title>\n<path fill=\"none\" stroke=\"black\" d=\"M1037.82,-488.19C921.08,-466.06 687.92,-421.84 567.27,-398.96\"/>\n<polygon fill=\"black\" stroke=\"black\" points=\"567.84,-395.51 557.36,-397.08 566.54,-402.39 567.84,-395.51\"/>\n</g>\n<!-- 13 -->\n<g id=\"node14\" class=\"node\">\n<title>13</title>\n<path fill=\"#c7a7f3\" stroke=\"black\" d=\"M1194.5,-425C1194.5,-425 1021.5,-425 1021.5,-425 1015.5,-425 1009.5,-419 1009.5,-413 1009.5,-413 1009.5,-354 1009.5,-354 1009.5,-348 1015.5,-342 1021.5,-342 1021.5,-342 1194.5,-342 1194.5,-342 1200.5,-342 1206.5,-348 1206.5,-354 1206.5,-354 1206.5,-413 1206.5,-413 1206.5,-419 1200.5,-425 1194.5,-425\"/>\n<text text-anchor=\"start\" x=\"1017.5\" y=\"-409.8\" font-family=\"Helvetica,sans-Serif\" font-size=\"14.00\">Employee_Location_GB ≤ 0.5</text>\n<text text-anchor=\"start\" x=\"1072.5\" y=\"-394.8\" font-family=\"Helvetica,sans-Serif\" font-size=\"14.00\">gini = 0.528</text>\n<text text-anchor=\"start\" x=\"1067\" y=\"-379.8\" font-family=\"Helvetica,sans-Serif\" font-size=\"14.00\">samples = 67</text>\n<text text-anchor=\"start\" x=\"1053.5\" y=\"-364.8\" font-family=\"Helvetica,sans-Serif\" font-size=\"14.00\">value = [20, 6, 41]</text>\n<text text-anchor=\"start\" x=\"1073\" y=\"-349.8\" font-family=\"Helvetica,sans-Serif\" font-size=\"14.00\">class = 100</text>\n</g>\n<!-- 1&#45;&gt;13 -->\n<g id=\"edge13\" class=\"edge\">\n<title>1&#45;&gt;13</title>\n<path fill=\"none\" stroke=\"black\" d=\"M1108,-460.91C1108,-452.65 1108,-443.86 1108,-435.3\"/>\n<polygon fill=\"black\" stroke=\"black\" points=\"1111.5,-435.02 1108,-425.02 1104.5,-435.02 1111.5,-435.02\"/>\n</g>\n<!-- 3 -->\n<g id=\"node4\" class=\"node\">\n<title>3</title>\n<path fill=\"#eeab7b\" stroke=\"black\" d=\"M269.5,-306C269.5,-306 96.5,-306 96.5,-306 90.5,-306 84.5,-300 84.5,-294 84.5,-294 84.5,-235 84.5,-235 84.5,-229 90.5,-223 96.5,-223 96.5,-223 269.5,-223 269.5,-223 275.5,-223 281.5,-229 281.5,-235 281.5,-235 281.5,-294 281.5,-294 281.5,-300 275.5,-306 269.5,-306\"/>\n<text text-anchor=\"start\" x=\"92.5\" y=\"-290.8\" font-family=\"Helvetica,sans-Serif\" font-size=\"14.00\">Employee_Location_HU ≤ 0.5</text>\n<text text-anchor=\"start\" x=\"147.5\" y=\"-275.8\" font-family=\"Helvetica,sans-Serif\" font-size=\"14.00\">gini = 0.375</text>\n<text text-anchor=\"start\" x=\"145.5\" y=\"-260.8\" font-family=\"Helvetica,sans-Serif\" font-size=\"14.00\">samples = 4</text>\n<text text-anchor=\"start\" x=\"136\" y=\"-245.8\" font-family=\"Helvetica,sans-Serif\" font-size=\"14.00\">value = [3, 1, 0]</text>\n<text text-anchor=\"start\" x=\"155.5\" y=\"-230.8\" font-family=\"Helvetica,sans-Serif\" font-size=\"14.00\">class = 0</text>\n</g>\n<!-- 2&#45;&gt;3 -->\n<g id=\"edge3\" class=\"edge\">\n<title>2&#45;&gt;3</title>\n<path fill=\"none\" stroke=\"black\" d=\"M424.93,-357.4C385.98,-342.61 335.75,-323.53 291.17,-306.59\"/>\n<polygon fill=\"black\" stroke=\"black\" points=\"292.34,-303.29 281.74,-303.01 289.85,-309.83 292.34,-303.29\"/>\n</g>\n<!-- 6 -->\n<g id=\"node7\" class=\"node\">\n<title>6</title>\n<path fill=\"#fdfcff\" stroke=\"black\" d=\"M575.5,-306C575.5,-306 406.5,-306 406.5,-306 400.5,-306 394.5,-300 394.5,-294 394.5,-294 394.5,-235 394.5,-235 394.5,-229 400.5,-223 406.5,-223 406.5,-223 575.5,-223 575.5,-223 581.5,-223 587.5,-229 587.5,-235 587.5,-235 587.5,-294 587.5,-294 587.5,-300 581.5,-306 575.5,-306\"/>\n<text text-anchor=\"start\" x=\"402.5\" y=\"-290.8\" font-family=\"Helvetica,sans-Serif\" font-size=\"14.00\">Company_Location_CA ≤ 0.5</text>\n<text text-anchor=\"start\" x=\"455.5\" y=\"-275.8\" font-family=\"Helvetica,sans-Serif\" font-size=\"14.00\">gini = 0.627</text>\n<text text-anchor=\"start\" x=\"446\" y=\"-260.8\" font-family=\"Helvetica,sans-Serif\" font-size=\"14.00\">samples = 100</text>\n<text text-anchor=\"start\" x=\"433\" y=\"-245.8\" font-family=\"Helvetica,sans-Serif\" font-size=\"14.00\">value = [17, 41, 42]</text>\n<text text-anchor=\"start\" x=\"456\" y=\"-230.8\" font-family=\"Helvetica,sans-Serif\" font-size=\"14.00\">class = 100</text>\n</g>\n<!-- 2&#45;&gt;6 -->\n<g id=\"edge6\" class=\"edge\">\n<title>2&#45;&gt;6</title>\n<path fill=\"none\" stroke=\"black\" d=\"M491,-341.91C491,-333.65 491,-324.86 491,-316.3\"/>\n<polygon fill=\"black\" stroke=\"black\" points=\"494.5,-316.02 491,-306.02 487.5,-316.02 494.5,-316.02\"/>\n</g>\n<!-- 4 -->\n<g id=\"node5\" class=\"node\">\n<title>4</title>\n<path fill=\"#e58139\" stroke=\"black\" d=\"M98,-179.5C98,-179.5 12,-179.5 12,-179.5 6,-179.5 0,-173.5 0,-167.5 0,-167.5 0,-123.5 0,-123.5 0,-117.5 6,-111.5 12,-111.5 12,-111.5 98,-111.5 98,-111.5 104,-111.5 110,-117.5 110,-123.5 110,-123.5 110,-167.5 110,-167.5 110,-173.5 104,-179.5 98,-179.5\"/>\n<text text-anchor=\"start\" x=\"27\" y=\"-164.3\" font-family=\"Helvetica,sans-Serif\" font-size=\"14.00\">gini = 0.0</text>\n<text text-anchor=\"start\" x=\"17.5\" y=\"-149.3\" font-family=\"Helvetica,sans-Serif\" font-size=\"14.00\">samples = 3</text>\n<text text-anchor=\"start\" x=\"8\" y=\"-134.3\" font-family=\"Helvetica,sans-Serif\" font-size=\"14.00\">value = [3, 0, 0]</text>\n<text text-anchor=\"start\" x=\"27.5\" y=\"-119.3\" font-family=\"Helvetica,sans-Serif\" font-size=\"14.00\">class = 0</text>\n</g>\n<!-- 3&#45;&gt;4 -->\n<g id=\"edge4\" class=\"edge\">\n<title>3&#45;&gt;4</title>\n<path fill=\"none\" stroke=\"black\" d=\"M138.59,-222.91C125.67,-211.1 111.58,-198.22 98.71,-186.45\"/>\n<polygon fill=\"black\" stroke=\"black\" points=\"101.03,-183.83 91.29,-179.67 96.3,-189 101.03,-183.83\"/>\n</g>\n<!-- 5 -->\n<g id=\"node6\" class=\"node\">\n<title>5</title>\n<path fill=\"#39e581\" stroke=\"black\" d=\"M226,-179.5C226,-179.5 140,-179.5 140,-179.5 134,-179.5 128,-173.5 128,-167.5 128,-167.5 128,-123.5 128,-123.5 128,-117.5 134,-111.5 140,-111.5 140,-111.5 226,-111.5 226,-111.5 232,-111.5 238,-117.5 238,-123.5 238,-123.5 238,-167.5 238,-167.5 238,-173.5 232,-179.5 226,-179.5\"/>\n<text text-anchor=\"start\" x=\"155\" y=\"-164.3\" font-family=\"Helvetica,sans-Serif\" font-size=\"14.00\">gini = 0.0</text>\n<text text-anchor=\"start\" x=\"145.5\" y=\"-149.3\" font-family=\"Helvetica,sans-Serif\" font-size=\"14.00\">samples = 1</text>\n<text text-anchor=\"start\" x=\"136\" y=\"-134.3\" font-family=\"Helvetica,sans-Serif\" font-size=\"14.00\">value = [0, 1, 0]</text>\n<text text-anchor=\"start\" x=\"152\" y=\"-119.3\" font-family=\"Helvetica,sans-Serif\" font-size=\"14.00\">class = 50</text>\n</g>\n<!-- 3&#45;&gt;5 -->\n<g id=\"edge5\" class=\"edge\">\n<title>3&#45;&gt;5</title>\n<path fill=\"none\" stroke=\"black\" d=\"M183,-222.91C183,-212.2 183,-200.62 183,-189.78\"/>\n<polygon fill=\"black\" stroke=\"black\" points=\"186.5,-189.67 183,-179.67 179.5,-189.67 186.5,-189.67\"/>\n</g>\n<!-- 7 -->\n<g id=\"node8\" class=\"node\">\n<title>7</title>\n<path fill=\"#f1fdf6\" stroke=\"black\" d=\"M438,-187C438,-187 268,-187 268,-187 262,-187 256,-181 256,-175 256,-175 256,-116 256,-116 256,-110 262,-104 268,-104 268,-104 438,-104 438,-104 444,-104 450,-110 450,-116 450,-116 450,-175 450,-175 450,-181 444,-187 438,-187\"/>\n<text text-anchor=\"start\" x=\"264\" y=\"-171.8\" font-family=\"Helvetica,sans-Serif\" font-size=\"14.00\">Employee_Location_PL ≤ 0.5</text>\n<text text-anchor=\"start\" x=\"317.5\" y=\"-156.8\" font-family=\"Helvetica,sans-Serif\" font-size=\"14.00\">gini = 0.633</text>\n<text text-anchor=\"start\" x=\"312\" y=\"-141.8\" font-family=\"Helvetica,sans-Serif\" font-size=\"14.00\">samples = 91</text>\n<text text-anchor=\"start\" x=\"295\" y=\"-126.8\" font-family=\"Helvetica,sans-Serif\" font-size=\"14.00\">value = [17, 39, 35]</text>\n<text text-anchor=\"start\" x=\"322\" y=\"-111.8\" font-family=\"Helvetica,sans-Serif\" font-size=\"14.00\">class = 50</text>\n</g>\n<!-- 6&#45;&gt;7 -->\n<g id=\"edge7\" class=\"edge\">\n<title>6&#45;&gt;7</title>\n<path fill=\"none\" stroke=\"black\" d=\"M443.12,-222.91C431.99,-213.47 420.05,-203.34 408.61,-193.65\"/>\n<polygon fill=\"black\" stroke=\"black\" points=\"410.68,-190.82 400.79,-187.02 406.16,-196.16 410.68,-190.82\"/>\n</g>\n<!-- 10 -->\n<g id=\"node11\" class=\"node\">\n<title>10</title>\n<path fill=\"#a572ec\" stroke=\"black\" d=\"M692,-187C692,-187 480,-187 480,-187 474,-187 468,-181 468,-175 468,-175 468,-116 468,-116 468,-110 474,-104 480,-104 480,-104 692,-104 692,-104 698,-104 704,-110 704,-116 704,-116 704,-175 704,-175 704,-181 698,-187 692,-187\"/>\n<text text-anchor=\"start\" x=\"476\" y=\"-171.8\" font-family=\"Helvetica,sans-Serif\" font-size=\"14.00\">Designation_Big Data Architect ≤ 0.5</text>\n<text text-anchor=\"start\" x=\"550.5\" y=\"-156.8\" font-family=\"Helvetica,sans-Serif\" font-size=\"14.00\">gini = 0.346</text>\n<text text-anchor=\"start\" x=\"548.5\" y=\"-141.8\" font-family=\"Helvetica,sans-Serif\" font-size=\"14.00\">samples = 9</text>\n<text text-anchor=\"start\" x=\"539\" y=\"-126.8\" font-family=\"Helvetica,sans-Serif\" font-size=\"14.00\">value = [0, 2, 7]</text>\n<text text-anchor=\"start\" x=\"551\" y=\"-111.8\" font-family=\"Helvetica,sans-Serif\" font-size=\"14.00\">class = 100</text>\n</g>\n<!-- 6&#45;&gt;10 -->\n<g id=\"edge10\" class=\"edge\">\n<title>6&#45;&gt;10</title>\n<path fill=\"none\" stroke=\"black\" d=\"M523.96,-222.91C531.25,-213.92 539.06,-204.32 546.58,-195.05\"/>\n<polygon fill=\"black\" stroke=\"black\" points=\"549.51,-196.99 553.1,-187.02 544.08,-192.58 549.51,-196.99\"/>\n</g>\n<!-- 8 -->\n<g id=\"node9\" class=\"node\">\n<title>8</title>\n<path fill=\"#e6fcef\" stroke=\"black\" d=\"M281,-68C281,-68 173,-68 173,-68 167,-68 161,-62 161,-56 161,-56 161,-12 161,-12 161,-6 167,0 173,0 173,0 281,0 281,0 287,0 293,-6 293,-12 293,-12 293,-56 293,-56 293,-62 287,-68 281,-68\"/>\n<text text-anchor=\"start\" x=\"191.5\" y=\"-52.8\" font-family=\"Helvetica,sans-Serif\" font-size=\"14.00\">gini = 0.634</text>\n<text text-anchor=\"start\" x=\"186\" y=\"-37.8\" font-family=\"Helvetica,sans-Serif\" font-size=\"14.00\">samples = 88</text>\n<text text-anchor=\"start\" x=\"169\" y=\"-22.8\" font-family=\"Helvetica,sans-Serif\" font-size=\"14.00\">value = [17, 39, 32]</text>\n<text text-anchor=\"start\" x=\"196\" y=\"-7.8\" font-family=\"Helvetica,sans-Serif\" font-size=\"14.00\">class = 50</text>\n</g>\n<!-- 7&#45;&gt;8 -->\n<g id=\"edge8\" class=\"edge\">\n<title>7&#45;&gt;8</title>\n<path fill=\"none\" stroke=\"black\" d=\"M306.08,-103.73C295.27,-94.33 283.79,-84.35 273.01,-74.99\"/>\n<polygon fill=\"black\" stroke=\"black\" points=\"275.16,-72.22 265.32,-68.3 270.57,-77.5 275.16,-72.22\"/>\n</g>\n<!-- 9 -->\n<g id=\"node10\" class=\"node\">\n<title>9</title>\n<path fill=\"#8139e5\" stroke=\"black\" d=\"M409,-68C409,-68 323,-68 323,-68 317,-68 311,-62 311,-56 311,-56 311,-12 311,-12 311,-6 317,0 323,0 323,0 409,0 409,0 415,0 421,-6 421,-12 421,-12 421,-56 421,-56 421,-62 415,-68 409,-68\"/>\n<text text-anchor=\"start\" x=\"338\" y=\"-52.8\" font-family=\"Helvetica,sans-Serif\" font-size=\"14.00\">gini = 0.0</text>\n<text text-anchor=\"start\" x=\"328.5\" y=\"-37.8\" font-family=\"Helvetica,sans-Serif\" font-size=\"14.00\">samples = 3</text>\n<text text-anchor=\"start\" x=\"319\" y=\"-22.8\" font-family=\"Helvetica,sans-Serif\" font-size=\"14.00\">value = [0, 0, 3]</text>\n<text text-anchor=\"start\" x=\"331\" y=\"-7.8\" font-family=\"Helvetica,sans-Serif\" font-size=\"14.00\">class = 100</text>\n</g>\n<!-- 7&#45;&gt;9 -->\n<g id=\"edge9\" class=\"edge\">\n<title>7&#45;&gt;9</title>\n<path fill=\"none\" stroke=\"black\" d=\"M357.84,-103.73C358.83,-95.43 359.87,-86.67 360.86,-78.28\"/>\n<polygon fill=\"black\" stroke=\"black\" points=\"364.34,-78.64 362.05,-68.3 357.39,-77.82 364.34,-78.64\"/>\n</g>\n<!-- 11 -->\n<g id=\"node12\" class=\"node\">\n<title>11</title>\n<path fill=\"#9355e9\" stroke=\"black\" d=\"M588,-68C588,-68 502,-68 502,-68 496,-68 490,-62 490,-56 490,-56 490,-12 490,-12 490,-6 496,0 502,0 502,0 588,0 588,0 594,0 600,-6 600,-12 600,-12 600,-56 600,-56 600,-62 594,-68 588,-68\"/>\n<text text-anchor=\"start\" x=\"509.5\" y=\"-52.8\" font-family=\"Helvetica,sans-Serif\" font-size=\"14.00\">gini = 0.219</text>\n<text text-anchor=\"start\" x=\"507.5\" y=\"-37.8\" font-family=\"Helvetica,sans-Serif\" font-size=\"14.00\">samples = 8</text>\n<text text-anchor=\"start\" x=\"498\" y=\"-22.8\" font-family=\"Helvetica,sans-Serif\" font-size=\"14.00\">value = [0, 1, 7]</text>\n<text text-anchor=\"start\" x=\"510\" y=\"-7.8\" font-family=\"Helvetica,sans-Serif\" font-size=\"14.00\">class = 100</text>\n</g>\n<!-- 10&#45;&gt;11 -->\n<g id=\"edge11\" class=\"edge\">\n<title>10&#45;&gt;11</title>\n<path fill=\"none\" stroke=\"black\" d=\"M570.73,-103.73C567.56,-95.24 564.2,-86.28 561,-77.73\"/>\n<polygon fill=\"black\" stroke=\"black\" points=\"564.25,-76.44 557.47,-68.3 557.7,-78.89 564.25,-76.44\"/>\n</g>\n<!-- 12 -->\n<g id=\"node13\" class=\"node\">\n<title>12</title>\n<path fill=\"#39e581\" stroke=\"black\" d=\"M716,-68C716,-68 630,-68 630,-68 624,-68 618,-62 618,-56 618,-56 618,-12 618,-12 618,-6 624,0 630,0 630,0 716,0 716,0 722,0 728,-6 728,-12 728,-12 728,-56 728,-56 728,-62 722,-68 716,-68\"/>\n<text text-anchor=\"start\" x=\"645\" y=\"-52.8\" font-family=\"Helvetica,sans-Serif\" font-size=\"14.00\">gini = 0.0</text>\n<text text-anchor=\"start\" x=\"635.5\" y=\"-37.8\" font-family=\"Helvetica,sans-Serif\" font-size=\"14.00\">samples = 1</text>\n<text text-anchor=\"start\" x=\"626\" y=\"-22.8\" font-family=\"Helvetica,sans-Serif\" font-size=\"14.00\">value = [0, 1, 0]</text>\n<text text-anchor=\"start\" x=\"642\" y=\"-7.8\" font-family=\"Helvetica,sans-Serif\" font-size=\"14.00\">class = 50</text>\n</g>\n<!-- 10&#45;&gt;12 -->\n<g id=\"edge12\" class=\"edge\">\n<title>10&#45;&gt;12</title>\n<path fill=\"none\" stroke=\"black\" d=\"M618.4,-103.73C625.5,-94.79 633.02,-85.32 640.14,-76.36\"/>\n<polygon fill=\"black\" stroke=\"black\" points=\"643.06,-78.31 646.54,-68.3 637.58,-73.95 643.06,-78.31\"/>\n</g>\n<!-- 14 -->\n<g id=\"node15\" class=\"node\">\n<title>14</title>\n<path fill=\"#ab7bee\" stroke=\"black\" d=\"M1069,-306C1069,-306 953,-306 953,-306 947,-306 941,-300 941,-294 941,-294 941,-235 941,-235 941,-229 947,-223 953,-223 953,-223 1069,-223 1069,-223 1075,-223 1081,-229 1081,-235 1081,-235 1081,-294 1081,-294 1081,-300 1075,-306 1069,-306\"/>\n<text text-anchor=\"start\" x=\"949\" y=\"-290.8\" font-family=\"Helvetica,sans-Serif\" font-size=\"14.00\">Unnamed: 0 ≤ 527.0</text>\n<text text-anchor=\"start\" x=\"975.5\" y=\"-275.8\" font-family=\"Helvetica,sans-Serif\" font-size=\"14.00\">gini = 0.445</text>\n<text text-anchor=\"start\" x=\"970\" y=\"-260.8\" font-family=\"Helvetica,sans-Serif\" font-size=\"14.00\">samples = 46</text>\n<text text-anchor=\"start\" x=\"960.5\" y=\"-245.8\" font-family=\"Helvetica,sans-Serif\" font-size=\"14.00\">value = [7, 6, 33]</text>\n<text text-anchor=\"start\" x=\"976\" y=\"-230.8\" font-family=\"Helvetica,sans-Serif\" font-size=\"14.00\">class = 100</text>\n</g>\n<!-- 13&#45;&gt;14 -->\n<g id=\"edge14\" class=\"edge\">\n<title>13&#45;&gt;14</title>\n<path fill=\"none\" stroke=\"black\" d=\"M1074.35,-341.91C1066.82,-332.83 1058.77,-323.12 1051.02,-313.77\"/>\n<polygon fill=\"black\" stroke=\"black\" points=\"1053.67,-311.49 1044.59,-306.02 1048.28,-315.95 1053.67,-311.49\"/>\n</g>\n<!-- 19 -->\n<g id=\"node20\" class=\"node\">\n<title>19</title>\n<path fill=\"#f5cfb3\" stroke=\"black\" d=\"M1299,-306C1299,-306 1111,-306 1111,-306 1105,-306 1099,-300 1099,-294 1099,-294 1099,-235 1099,-235 1099,-229 1105,-223 1111,-223 1111,-223 1299,-223 1299,-223 1305,-223 1311,-229 1311,-235 1311,-235 1311,-294 1311,-294 1311,-300 1305,-306 1299,-306\"/>\n<text text-anchor=\"start\" x=\"1107\" y=\"-290.8\" font-family=\"Helvetica,sans-Serif\" font-size=\"14.00\">Designation_Data Scientist ≤ 0.5</text>\n<text text-anchor=\"start\" x=\"1169.5\" y=\"-275.8\" font-family=\"Helvetica,sans-Serif\" font-size=\"14.00\">gini = 0.472</text>\n<text text-anchor=\"start\" x=\"1164\" y=\"-260.8\" font-family=\"Helvetica,sans-Serif\" font-size=\"14.00\">samples = 21</text>\n<text text-anchor=\"start\" x=\"1154.5\" y=\"-245.8\" font-family=\"Helvetica,sans-Serif\" font-size=\"14.00\">value = [13, 0, 8]</text>\n<text text-anchor=\"start\" x=\"1177.5\" y=\"-230.8\" font-family=\"Helvetica,sans-Serif\" font-size=\"14.00\">class = 0</text>\n</g>\n<!-- 13&#45;&gt;19 -->\n<g id=\"edge19\" class=\"edge\">\n<title>13&#45;&gt;19</title>\n<path fill=\"none\" stroke=\"black\" d=\"M1141.65,-341.91C1149.18,-332.83 1157.23,-323.12 1164.98,-313.77\"/>\n<polygon fill=\"black\" stroke=\"black\" points=\"1167.72,-315.95 1171.41,-306.02 1162.33,-311.49 1167.72,-315.95\"/>\n</g>\n<!-- 15 -->\n<g id=\"node16\" class=\"node\">\n<title>15</title>\n<path fill=\"#a36fec\" stroke=\"black\" d=\"M952,-187C952,-187 734,-187 734,-187 728,-187 722,-181 722,-175 722,-175 722,-116 722,-116 722,-110 728,-104 734,-104 734,-104 952,-104 952,-104 958,-104 964,-110 964,-116 964,-116 964,-175 964,-175 964,-181 958,-187 952,-187\"/>\n<text text-anchor=\"start\" x=\"730\" y=\"-171.8\" font-family=\"Helvetica,sans-Serif\" font-size=\"14.00\">Designation_Research Scientist ≤ 0.5</text>\n<text text-anchor=\"start\" x=\"807.5\" y=\"-156.8\" font-family=\"Helvetica,sans-Serif\" font-size=\"14.00\">gini = 0.383</text>\n<text text-anchor=\"start\" x=\"802\" y=\"-141.8\" font-family=\"Helvetica,sans-Serif\" font-size=\"14.00\">samples = 43</text>\n<text text-anchor=\"start\" x=\"792.5\" y=\"-126.8\" font-family=\"Helvetica,sans-Serif\" font-size=\"14.00\">value = [4, 6, 33]</text>\n<text text-anchor=\"start\" x=\"808\" y=\"-111.8\" font-family=\"Helvetica,sans-Serif\" font-size=\"14.00\">class = 100</text>\n</g>\n<!-- 14&#45;&gt;15 -->\n<g id=\"edge15\" class=\"edge\">\n<title>14&#45;&gt;15</title>\n<path fill=\"none\" stroke=\"black\" d=\"M952.71,-222.91C938.77,-213.2 923.78,-202.76 909.5,-192.81\"/>\n<polygon fill=\"black\" stroke=\"black\" points=\"911.39,-189.86 901.18,-187.02 907.39,-195.61 911.39,-189.86\"/>\n</g>\n<!-- 18 -->\n<g id=\"node19\" class=\"node\">\n<title>18</title>\n<path fill=\"#e58139\" stroke=\"black\" d=\"M1080,-179.5C1080,-179.5 994,-179.5 994,-179.5 988,-179.5 982,-173.5 982,-167.5 982,-167.5 982,-123.5 982,-123.5 982,-117.5 988,-111.5 994,-111.5 994,-111.5 1080,-111.5 1080,-111.5 1086,-111.5 1092,-117.5 1092,-123.5 1092,-123.5 1092,-167.5 1092,-167.5 1092,-173.5 1086,-179.5 1080,-179.5\"/>\n<text text-anchor=\"start\" x=\"1009\" y=\"-164.3\" font-family=\"Helvetica,sans-Serif\" font-size=\"14.00\">gini = 0.0</text>\n<text text-anchor=\"start\" x=\"999.5\" y=\"-149.3\" font-family=\"Helvetica,sans-Serif\" font-size=\"14.00\">samples = 3</text>\n<text text-anchor=\"start\" x=\"990\" y=\"-134.3\" font-family=\"Helvetica,sans-Serif\" font-size=\"14.00\">value = [3, 0, 0]</text>\n<text text-anchor=\"start\" x=\"1009.5\" y=\"-119.3\" font-family=\"Helvetica,sans-Serif\" font-size=\"14.00\">class = 0</text>\n</g>\n<!-- 14&#45;&gt;18 -->\n<g id=\"edge18\" class=\"edge\">\n<title>14&#45;&gt;18</title>\n<path fill=\"none\" stroke=\"black\" d=\"M1020.02,-222.91C1022.42,-212.09 1025.03,-200.38 1027.46,-189.44\"/>\n<polygon fill=\"black\" stroke=\"black\" points=\"1030.88,-190.19 1029.63,-179.67 1024.04,-188.67 1030.88,-190.19\"/>\n</g>\n<!-- 16 -->\n<g id=\"node17\" class=\"node\">\n<title>16</title>\n<path fill=\"#9d65eb\" stroke=\"black\" d=\"M876.5,-68C876.5,-68 783.5,-68 783.5,-68 777.5,-68 771.5,-62 771.5,-56 771.5,-56 771.5,-12 771.5,-12 771.5,-6 777.5,0 783.5,0 783.5,0 876.5,0 876.5,0 882.5,0 888.5,-6 888.5,-12 888.5,-12 888.5,-56 888.5,-56 888.5,-62 882.5,-68 876.5,-68\"/>\n<text text-anchor=\"start\" x=\"794.5\" y=\"-52.8\" font-family=\"Helvetica,sans-Serif\" font-size=\"14.00\">gini = 0.332</text>\n<text text-anchor=\"start\" x=\"789\" y=\"-37.8\" font-family=\"Helvetica,sans-Serif\" font-size=\"14.00\">samples = 41</text>\n<text text-anchor=\"start\" x=\"779.5\" y=\"-22.8\" font-family=\"Helvetica,sans-Serif\" font-size=\"14.00\">value = [3, 5, 33]</text>\n<text text-anchor=\"start\" x=\"795\" y=\"-7.8\" font-family=\"Helvetica,sans-Serif\" font-size=\"14.00\">class = 100</text>\n</g>\n<!-- 15&#45;&gt;16 -->\n<g id=\"edge16\" class=\"edge\">\n<title>15&#45;&gt;16</title>\n<path fill=\"none\" stroke=\"black\" d=\"M838.16,-103.73C837.17,-95.43 836.13,-86.67 835.14,-78.28\"/>\n<polygon fill=\"black\" stroke=\"black\" points=\"838.61,-77.82 833.95,-68.3 831.66,-78.64 838.61,-77.82\"/>\n</g>\n<!-- 17 -->\n<g id=\"node18\" class=\"node\">\n<title>17</title>\n<path fill=\"#ffffff\" stroke=\"black\" d=\"M1005,-68C1005,-68 919,-68 919,-68 913,-68 907,-62 907,-56 907,-56 907,-12 907,-12 907,-6 913,0 919,0 919,0 1005,0 1005,0 1011,0 1017,-6 1017,-12 1017,-12 1017,-56 1017,-56 1017,-62 1011,-68 1005,-68\"/>\n<text text-anchor=\"start\" x=\"934\" y=\"-52.8\" font-family=\"Helvetica,sans-Serif\" font-size=\"14.00\">gini = 0.5</text>\n<text text-anchor=\"start\" x=\"924.5\" y=\"-37.8\" font-family=\"Helvetica,sans-Serif\" font-size=\"14.00\">samples = 2</text>\n<text text-anchor=\"start\" x=\"915\" y=\"-22.8\" font-family=\"Helvetica,sans-Serif\" font-size=\"14.00\">value = [1, 1, 0]</text>\n<text text-anchor=\"start\" x=\"934.5\" y=\"-7.8\" font-family=\"Helvetica,sans-Serif\" font-size=\"14.00\">class = 0</text>\n</g>\n<!-- 15&#45;&gt;17 -->\n<g id=\"edge17\" class=\"edge\">\n<title>15&#45;&gt;17</title>\n<path fill=\"none\" stroke=\"black\" d=\"M887.31,-103.73C897.42,-94.42 908.16,-84.54 918.25,-75.26\"/>\n<polygon fill=\"black\" stroke=\"black\" points=\"920.82,-77.65 925.81,-68.3 916.08,-72.5 920.82,-77.65\"/>\n</g>\n<!-- 20 -->\n<g id=\"node21\" class=\"node\">\n<title>20</title>\n<path fill=\"#efe6fc\" stroke=\"black\" d=\"M1238,-187C1238,-187 1122,-187 1122,-187 1116,-187 1110,-181 1110,-175 1110,-175 1110,-116 1110,-116 1110,-110 1116,-104 1122,-104 1122,-104 1238,-104 1238,-104 1244,-104 1250,-110 1250,-116 1250,-116 1250,-175 1250,-175 1250,-181 1244,-187 1238,-187\"/>\n<text text-anchor=\"start\" x=\"1118\" y=\"-171.8\" font-family=\"Helvetica,sans-Serif\" font-size=\"14.00\">Unnamed: 0 ≤ 407.5</text>\n<text text-anchor=\"start\" x=\"1144.5\" y=\"-156.8\" font-family=\"Helvetica,sans-Serif\" font-size=\"14.00\">gini = 0.498</text>\n<text text-anchor=\"start\" x=\"1139\" y=\"-141.8\" font-family=\"Helvetica,sans-Serif\" font-size=\"14.00\">samples = 15</text>\n<text text-anchor=\"start\" x=\"1133\" y=\"-126.8\" font-family=\"Helvetica,sans-Serif\" font-size=\"14.00\">value = [7, 0, 8]</text>\n<text text-anchor=\"start\" x=\"1145\" y=\"-111.8\" font-family=\"Helvetica,sans-Serif\" font-size=\"14.00\">class = 100</text>\n</g>\n<!-- 19&#45;&gt;20 -->\n<g id=\"edge20\" class=\"edge\">\n<title>19&#45;&gt;20</title>\n<path fill=\"none\" stroke=\"black\" d=\"M1196.33,-222.91C1194.54,-214.56 1192.64,-205.67 1190.79,-197.02\"/>\n<polygon fill=\"black\" stroke=\"black\" points=\"1194.17,-196.07 1188.66,-187.02 1187.33,-197.53 1194.17,-196.07\"/>\n</g>\n<!-- 23 -->\n<g id=\"node24\" class=\"node\">\n<title>23</title>\n<path fill=\"#e58139\" stroke=\"black\" d=\"M1366,-179.5C1366,-179.5 1280,-179.5 1280,-179.5 1274,-179.5 1268,-173.5 1268,-167.5 1268,-167.5 1268,-123.5 1268,-123.5 1268,-117.5 1274,-111.5 1280,-111.5 1280,-111.5 1366,-111.5 1366,-111.5 1372,-111.5 1378,-117.5 1378,-123.5 1378,-123.5 1378,-167.5 1378,-167.5 1378,-173.5 1372,-179.5 1366,-179.5\"/>\n<text text-anchor=\"start\" x=\"1295\" y=\"-164.3\" font-family=\"Helvetica,sans-Serif\" font-size=\"14.00\">gini = 0.0</text>\n<text text-anchor=\"start\" x=\"1285.5\" y=\"-149.3\" font-family=\"Helvetica,sans-Serif\" font-size=\"14.00\">samples = 6</text>\n<text text-anchor=\"start\" x=\"1276\" y=\"-134.3\" font-family=\"Helvetica,sans-Serif\" font-size=\"14.00\">value = [6, 0, 0]</text>\n<text text-anchor=\"start\" x=\"1295.5\" y=\"-119.3\" font-family=\"Helvetica,sans-Serif\" font-size=\"14.00\">class = 0</text>\n</g>\n<!-- 19&#45;&gt;23 -->\n<g id=\"edge23\" class=\"edge\">\n<title>19&#45;&gt;23</title>\n<path fill=\"none\" stroke=\"black\" d=\"M1245.94,-222.91C1257.74,-211.21 1270.6,-198.46 1282.38,-186.78\"/>\n<polygon fill=\"black\" stroke=\"black\" points=\"1284.91,-189.19 1289.55,-179.67 1279.98,-184.22 1284.91,-189.19\"/>\n</g>\n<!-- 21 -->\n<g id=\"node22\" class=\"node\">\n<title>21</title>\n<path fill=\"#eeab7b\" stroke=\"black\" d=\"M1191,-68C1191,-68 1105,-68 1105,-68 1099,-68 1093,-62 1093,-56 1093,-56 1093,-12 1093,-12 1093,-6 1099,0 1105,0 1105,0 1191,0 1191,0 1197,0 1203,-6 1203,-12 1203,-12 1203,-56 1203,-56 1203,-62 1197,-68 1191,-68\"/>\n<text text-anchor=\"start\" x=\"1112.5\" y=\"-52.8\" font-family=\"Helvetica,sans-Serif\" font-size=\"14.00\">gini = 0.375</text>\n<text text-anchor=\"start\" x=\"1110.5\" y=\"-37.8\" font-family=\"Helvetica,sans-Serif\" font-size=\"14.00\">samples = 8</text>\n<text text-anchor=\"start\" x=\"1101\" y=\"-22.8\" font-family=\"Helvetica,sans-Serif\" font-size=\"14.00\">value = [6, 0, 2]</text>\n<text text-anchor=\"start\" x=\"1120.5\" y=\"-7.8\" font-family=\"Helvetica,sans-Serif\" font-size=\"14.00\">class = 0</text>\n</g>\n<!-- 20&#45;&gt;21 -->\n<g id=\"edge21\" class=\"edge\">\n<title>20&#45;&gt;21</title>\n<path fill=\"none\" stroke=\"black\" d=\"M1168.08,-103.73C1165.63,-95.34 1163.04,-86.47 1160.57,-78.01\"/>\n<polygon fill=\"black\" stroke=\"black\" points=\"1163.9,-76.92 1157.73,-68.3 1157.18,-78.88 1163.9,-76.92\"/>\n</g>\n<!-- 22 -->\n<g id=\"node23\" class=\"node\">\n<title>22</title>\n<path fill=\"#965ae9\" stroke=\"black\" d=\"M1319,-68C1319,-68 1233,-68 1233,-68 1227,-68 1221,-62 1221,-56 1221,-56 1221,-12 1221,-12 1221,-6 1227,0 1233,0 1233,0 1319,0 1319,0 1325,0 1331,-6 1331,-12 1331,-12 1331,-56 1331,-56 1331,-62 1325,-68 1319,-68\"/>\n<text text-anchor=\"start\" x=\"1240.5\" y=\"-52.8\" font-family=\"Helvetica,sans-Serif\" font-size=\"14.00\">gini = 0.245</text>\n<text text-anchor=\"start\" x=\"1238.5\" y=\"-37.8\" font-family=\"Helvetica,sans-Serif\" font-size=\"14.00\">samples = 7</text>\n<text text-anchor=\"start\" x=\"1229\" y=\"-22.8\" font-family=\"Helvetica,sans-Serif\" font-size=\"14.00\">value = [1, 0, 6]</text>\n<text text-anchor=\"start\" x=\"1241\" y=\"-7.8\" font-family=\"Helvetica,sans-Serif\" font-size=\"14.00\">class = 100</text>\n</g>\n<!-- 20&#45;&gt;22 -->\n<g id=\"edge22\" class=\"edge\">\n<title>20&#45;&gt;22</title>\n<path fill=\"none\" stroke=\"black\" d=\"M1215.75,-103.73C1223.66,-94.7 1232.06,-85.12 1239.98,-76.08\"/>\n<polygon fill=\"black\" stroke=\"black\" points=\"1242.85,-78.13 1246.81,-68.3 1237.58,-73.51 1242.85,-78.13\"/>\n</g>\n<!-- 25 -->\n<g id=\"node26\" class=\"node\">\n<title>25</title>\n<path fill=\"#ab7bee\" stroke=\"black\" d=\"M1758,-425C1758,-425 1642,-425 1642,-425 1636,-425 1630,-419 1630,-413 1630,-413 1630,-354 1630,-354 1630,-348 1636,-342 1642,-342 1642,-342 1758,-342 1758,-342 1764,-342 1770,-348 1770,-354 1770,-354 1770,-413 1770,-413 1770,-419 1764,-425 1758,-425\"/>\n<text text-anchor=\"start\" x=\"1638\" y=\"-409.8\" font-family=\"Helvetica,sans-Serif\" font-size=\"14.00\">Unnamed: 0 ≤ 467.5</text>\n<text text-anchor=\"start\" x=\"1664.5\" y=\"-394.8\" font-family=\"Helvetica,sans-Serif\" font-size=\"14.00\">gini = 0.413</text>\n<text text-anchor=\"start\" x=\"1655\" y=\"-379.8\" font-family=\"Helvetica,sans-Serif\" font-size=\"14.00\">samples = 250</text>\n<text text-anchor=\"start\" x=\"1638\" y=\"-364.8\" font-family=\"Helvetica,sans-Serif\" font-size=\"14.00\">value = [51, 15, 184]</text>\n<text text-anchor=\"start\" x=\"1665\" y=\"-349.8\" font-family=\"Helvetica,sans-Serif\" font-size=\"14.00\">class = 100</text>\n</g>\n<!-- 24&#45;&gt;25 -->\n<g id=\"edge25\" class=\"edge\">\n<title>24&#45;&gt;25</title>\n<path fill=\"none\" stroke=\"black\" d=\"M1700,-460.91C1700,-452.65 1700,-443.86 1700,-435.3\"/>\n<polygon fill=\"black\" stroke=\"black\" points=\"1703.5,-435.02 1700,-425.02 1696.5,-435.02 1703.5,-435.02\"/>\n</g>\n<!-- 38 -->\n<g id=\"node39\" class=\"node\">\n<title>38</title>\n<path fill=\"#e58139\" stroke=\"black\" d=\"M1886,-417.5C1886,-417.5 1800,-417.5 1800,-417.5 1794,-417.5 1788,-411.5 1788,-405.5 1788,-405.5 1788,-361.5 1788,-361.5 1788,-355.5 1794,-349.5 1800,-349.5 1800,-349.5 1886,-349.5 1886,-349.5 1892,-349.5 1898,-355.5 1898,-361.5 1898,-361.5 1898,-405.5 1898,-405.5 1898,-411.5 1892,-417.5 1886,-417.5\"/>\n<text text-anchor=\"start\" x=\"1815\" y=\"-402.3\" font-family=\"Helvetica,sans-Serif\" font-size=\"14.00\">gini = 0.0</text>\n<text text-anchor=\"start\" x=\"1805.5\" y=\"-387.3\" font-family=\"Helvetica,sans-Serif\" font-size=\"14.00\">samples = 3</text>\n<text text-anchor=\"start\" x=\"1796\" y=\"-372.3\" font-family=\"Helvetica,sans-Serif\" font-size=\"14.00\">value = [3, 0, 0]</text>\n<text text-anchor=\"start\" x=\"1815.5\" y=\"-357.3\" font-family=\"Helvetica,sans-Serif\" font-size=\"14.00\">class = 0</text>\n</g>\n<!-- 24&#45;&gt;38 -->\n<g id=\"edge38\" class=\"edge\">\n<title>24&#45;&gt;38</title>\n<path fill=\"none\" stroke=\"black\" d=\"M1749.61,-460.91C1764.18,-448.99 1780.09,-435.98 1794.58,-424.12\"/>\n<polygon fill=\"black\" stroke=\"black\" points=\"1796.94,-426.71 1802.46,-417.67 1792.51,-421.29 1796.94,-426.71\"/>\n</g>\n<!-- 26 -->\n<g id=\"node27\" class=\"node\">\n<title>26</title>\n<path fill=\"#b88ff0\" stroke=\"black\" d=\"M1758,-306C1758,-306 1642,-306 1642,-306 1636,-306 1630,-300 1630,-294 1630,-294 1630,-235 1630,-235 1630,-229 1636,-223 1642,-223 1642,-223 1758,-223 1758,-223 1764,-223 1770,-229 1770,-235 1770,-235 1770,-294 1770,-294 1770,-300 1764,-306 1758,-306\"/>\n<text text-anchor=\"start\" x=\"1638\" y=\"-290.8\" font-family=\"Helvetica,sans-Serif\" font-size=\"14.00\">Unnamed: 0 ≤ 263.0</text>\n<text text-anchor=\"start\" x=\"1664.5\" y=\"-275.8\" font-family=\"Helvetica,sans-Serif\" font-size=\"14.00\">gini = 0.481</text>\n<text text-anchor=\"start\" x=\"1655\" y=\"-260.8\" font-family=\"Helvetica,sans-Serif\" font-size=\"14.00\">samples = 180</text>\n<text text-anchor=\"start\" x=\"1638\" y=\"-245.8\" font-family=\"Helvetica,sans-Serif\" font-size=\"14.00\">value = [44, 15, 121]</text>\n<text text-anchor=\"start\" x=\"1665\" y=\"-230.8\" font-family=\"Helvetica,sans-Serif\" font-size=\"14.00\">class = 100</text>\n</g>\n<!-- 25&#45;&gt;26 -->\n<g id=\"edge26\" class=\"edge\">\n<title>25&#45;&gt;26</title>\n<path fill=\"none\" stroke=\"black\" d=\"M1700,-341.91C1700,-333.65 1700,-324.86 1700,-316.3\"/>\n<polygon fill=\"black\" stroke=\"black\" points=\"1703.5,-316.02 1700,-306.02 1696.5,-316.02 1703.5,-316.02\"/>\n</g>\n<!-- 33 -->\n<g id=\"node34\" class=\"node\">\n<title>33</title>\n<path fill=\"#8f4fe8\" stroke=\"black\" d=\"M2265.5,-306C2265.5,-306 2034.5,-306 2034.5,-306 2028.5,-306 2022.5,-300 2022.5,-294 2022.5,-294 2022.5,-235 2022.5,-235 2022.5,-229 2028.5,-223 2034.5,-223 2034.5,-223 2265.5,-223 2265.5,-223 2271.5,-223 2277.5,-229 2277.5,-235 2277.5,-235 2277.5,-294 2277.5,-294 2277.5,-300 2271.5,-306 2265.5,-306\"/>\n<text text-anchor=\"start\" x=\"2030.5\" y=\"-290.8\" font-family=\"Helvetica,sans-Serif\" font-size=\"14.00\">Salary_In_Rupees_11,171,558.00 ≤ 0.5</text>\n<text text-anchor=\"start\" x=\"2118\" y=\"-275.8\" font-family=\"Helvetica,sans-Serif\" font-size=\"14.00\">gini = 0.18</text>\n<text text-anchor=\"start\" x=\"2109\" y=\"-260.8\" font-family=\"Helvetica,sans-Serif\" font-size=\"14.00\">samples = 70</text>\n<text text-anchor=\"start\" x=\"2099.5\" y=\"-245.8\" font-family=\"Helvetica,sans-Serif\" font-size=\"14.00\">value = [7, 0, 63]</text>\n<text text-anchor=\"start\" x=\"2115\" y=\"-230.8\" font-family=\"Helvetica,sans-Serif\" font-size=\"14.00\">class = 100</text>\n</g>\n<!-- 25&#45;&gt;33 -->\n<g id=\"edge33\" class=\"edge\">\n<title>25&#45;&gt;33</title>\n<path fill=\"none\" stroke=\"black\" d=\"M1770.22,-345.31C1773.16,-344.13 1776.09,-343.02 1779,-342 1854.24,-315.51 1941.47,-296.95 2012.44,-284.75\"/>\n<polygon fill=\"black\" stroke=\"black\" points=\"2013.06,-288.19 2022.34,-283.07 2011.89,-281.29 2013.06,-288.19\"/>\n</g>\n<!-- 27 -->\n<g id=\"node28\" class=\"node\">\n<title>27</title>\n<path fill=\"#a470ec\" stroke=\"black\" d=\"M1679.5,-187C1679.5,-187 1408.5,-187 1408.5,-187 1402.5,-187 1396.5,-181 1396.5,-175 1396.5,-175 1396.5,-116 1396.5,-116 1396.5,-110 1402.5,-104 1408.5,-104 1408.5,-104 1679.5,-104 1679.5,-104 1685.5,-104 1691.5,-110 1691.5,-116 1691.5,-116 1691.5,-175 1691.5,-175 1691.5,-181 1685.5,-187 1679.5,-187\"/>\n<text text-anchor=\"start\" x=\"1404.5\" y=\"-171.8\" font-family=\"Helvetica,sans-Serif\" font-size=\"14.00\">Designation_Machine Learning Engineer ≤ 0.5</text>\n<text text-anchor=\"start\" x=\"1508.5\" y=\"-156.8\" font-family=\"Helvetica,sans-Serif\" font-size=\"14.00\">gini = 0.395</text>\n<text text-anchor=\"start\" x=\"1503\" y=\"-141.8\" font-family=\"Helvetica,sans-Serif\" font-size=\"14.00\">samples = 83</text>\n<text text-anchor=\"start\" x=\"1489.5\" y=\"-126.8\" font-family=\"Helvetica,sans-Serif\" font-size=\"14.00\">value = [9, 11, 63]</text>\n<text text-anchor=\"start\" x=\"1509\" y=\"-111.8\" font-family=\"Helvetica,sans-Serif\" font-size=\"14.00\">class = 100</text>\n</g>\n<!-- 26&#45;&gt;27 -->\n<g id=\"edge27\" class=\"edge\">\n<title>26&#45;&gt;27</title>\n<path fill=\"none\" stroke=\"black\" d=\"M1645.88,-222.91C1633.05,-213.29 1619.27,-202.95 1606.12,-193.09\"/>\n<polygon fill=\"black\" stroke=\"black\" points=\"1608.13,-190.22 1598.03,-187.02 1603.93,-195.82 1608.13,-190.22\"/>\n</g>\n<!-- 30 -->\n<g id=\"node31\" class=\"node\">\n<title>30</title>\n<path fill=\"#d0b6f5\" stroke=\"black\" d=\"M1992.5,-187C1992.5,-187 1721.5,-187 1721.5,-187 1715.5,-187 1709.5,-181 1709.5,-175 1709.5,-175 1709.5,-116 1709.5,-116 1709.5,-110 1715.5,-104 1721.5,-104 1721.5,-104 1992.5,-104 1992.5,-104 1998.5,-104 2004.5,-110 2004.5,-116 2004.5,-116 2004.5,-175 2004.5,-175 2004.5,-181 1998.5,-187 1992.5,-187\"/>\n<text text-anchor=\"start\" x=\"1717.5\" y=\"-171.8\" font-family=\"Helvetica,sans-Serif\" font-size=\"14.00\">Designation_Machine Learning Engineer ≤ 0.5</text>\n<text text-anchor=\"start\" x=\"1821.5\" y=\"-156.8\" font-family=\"Helvetica,sans-Serif\" font-size=\"14.00\">gini = 0.511</text>\n<text text-anchor=\"start\" x=\"1816\" y=\"-141.8\" font-family=\"Helvetica,sans-Serif\" font-size=\"14.00\">samples = 97</text>\n<text text-anchor=\"start\" x=\"1802.5\" y=\"-126.8\" font-family=\"Helvetica,sans-Serif\" font-size=\"14.00\">value = [35, 4, 58]</text>\n<text text-anchor=\"start\" x=\"1822\" y=\"-111.8\" font-family=\"Helvetica,sans-Serif\" font-size=\"14.00\">class = 100</text>\n</g>\n<!-- 26&#45;&gt;30 -->\n<g id=\"edge30\" class=\"edge\">\n<title>26&#45;&gt;30</title>\n<path fill=\"none\" stroke=\"black\" d=\"M1754.47,-222.91C1767.38,-213.29 1781.25,-202.95 1794.48,-193.09\"/>\n<polygon fill=\"black\" stroke=\"black\" points=\"1796.7,-195.8 1802.63,-187.02 1792.52,-190.19 1796.7,-195.8\"/>\n</g>\n<!-- 28 -->\n<g id=\"node29\" class=\"node\">\n<title>28</title>\n<path fill=\"#9f68eb\" stroke=\"black\" d=\"M1478.5,-68C1478.5,-68 1385.5,-68 1385.5,-68 1379.5,-68 1373.5,-62 1373.5,-56 1373.5,-56 1373.5,-12 1373.5,-12 1373.5,-6 1379.5,0 1385.5,0 1385.5,0 1478.5,0 1478.5,0 1484.5,0 1490.5,-6 1490.5,-12 1490.5,-12 1490.5,-56 1490.5,-56 1490.5,-62 1484.5,-68 1478.5,-68\"/>\n<text text-anchor=\"start\" x=\"1400\" y=\"-52.8\" font-family=\"Helvetica,sans-Serif\" font-size=\"14.00\">gini = 0.35</text>\n<text text-anchor=\"start\" x=\"1391\" y=\"-37.8\" font-family=\"Helvetica,sans-Serif\" font-size=\"14.00\">samples = 77</text>\n<text text-anchor=\"start\" x=\"1381.5\" y=\"-22.8\" font-family=\"Helvetica,sans-Serif\" font-size=\"14.00\">value = [9, 7, 61]</text>\n<text text-anchor=\"start\" x=\"1397\" y=\"-7.8\" font-family=\"Helvetica,sans-Serif\" font-size=\"14.00\">class = 100</text>\n</g>\n<!-- 27&#45;&gt;28 -->\n<g id=\"edge28\" class=\"edge\">\n<title>27&#45;&gt;28</title>\n<path fill=\"none\" stroke=\"black\" d=\"M1502.3,-103.73C1492.87,-94.51 1482.87,-84.74 1473.46,-75.53\"/>\n<polygon fill=\"black\" stroke=\"black\" points=\"1475.66,-72.79 1466.06,-68.3 1470.76,-77.79 1475.66,-72.79\"/>\n</g>\n<!-- 29 -->\n<g id=\"node30\" class=\"node\">\n<title>29</title>\n<path fill=\"#9cf2c0\" stroke=\"black\" d=\"M1607,-68C1607,-68 1521,-68 1521,-68 1515,-68 1509,-62 1509,-56 1509,-56 1509,-12 1509,-12 1509,-6 1515,0 1521,0 1521,0 1607,0 1607,0 1613,0 1619,-6 1619,-12 1619,-12 1619,-56 1619,-56 1619,-62 1613,-68 1607,-68\"/>\n<text text-anchor=\"start\" x=\"1528.5\" y=\"-52.8\" font-family=\"Helvetica,sans-Serif\" font-size=\"14.00\">gini = 0.444</text>\n<text text-anchor=\"start\" x=\"1526.5\" y=\"-37.8\" font-family=\"Helvetica,sans-Serif\" font-size=\"14.00\">samples = 6</text>\n<text text-anchor=\"start\" x=\"1517\" y=\"-22.8\" font-family=\"Helvetica,sans-Serif\" font-size=\"14.00\">value = [0, 4, 2]</text>\n<text text-anchor=\"start\" x=\"1533\" y=\"-7.8\" font-family=\"Helvetica,sans-Serif\" font-size=\"14.00\">class = 50</text>\n</g>\n<!-- 27&#45;&gt;29 -->\n<g id=\"edge29\" class=\"edge\">\n<title>27&#45;&gt;29</title>\n<path fill=\"none\" stroke=\"black\" d=\"M1551.45,-103.73C1552.96,-95.43 1554.56,-86.67 1556.09,-78.28\"/>\n<polygon fill=\"black\" stroke=\"black\" points=\"1559.56,-78.77 1557.92,-68.3 1552.68,-77.51 1559.56,-78.77\"/>\n</g>\n<!-- 31 -->\n<g id=\"node32\" class=\"node\">\n<title>31</title>\n<path fill=\"#c8a9f4\" stroke=\"black\" d=\"M1818.5,-68C1818.5,-68 1717.5,-68 1717.5,-68 1711.5,-68 1705.5,-62 1705.5,-56 1705.5,-56 1705.5,-12 1705.5,-12 1705.5,-6 1711.5,0 1717.5,0 1717.5,0 1818.5,0 1818.5,0 1824.5,0 1830.5,-6 1830.5,-12 1830.5,-12 1830.5,-56 1830.5,-56 1830.5,-62 1824.5,-68 1818.5,-68\"/>\n<text text-anchor=\"start\" x=\"1732.5\" y=\"-52.8\" font-family=\"Helvetica,sans-Serif\" font-size=\"14.00\">gini = 0.498</text>\n<text text-anchor=\"start\" x=\"1727\" y=\"-37.8\" font-family=\"Helvetica,sans-Serif\" font-size=\"14.00\">samples = 93</text>\n<text text-anchor=\"start\" x=\"1713.5\" y=\"-22.8\" font-family=\"Helvetica,sans-Serif\" font-size=\"14.00\">value = [31, 4, 58]</text>\n<text text-anchor=\"start\" x=\"1733\" y=\"-7.8\" font-family=\"Helvetica,sans-Serif\" font-size=\"14.00\">class = 100</text>\n</g>\n<!-- 30&#45;&gt;31 -->\n<g id=\"edge31\" class=\"edge\">\n<title>30&#45;&gt;31</title>\n<path fill=\"none\" stroke=\"black\" d=\"M1823.86,-103.73C1816.52,-94.7 1808.74,-85.12 1801.39,-76.08\"/>\n<polygon fill=\"black\" stroke=\"black\" points=\"1804.09,-73.85 1795.07,-68.3 1798.66,-78.27 1804.09,-73.85\"/>\n</g>\n<!-- 32 -->\n<g id=\"node33\" class=\"node\">\n<title>32</title>\n<path fill=\"#e58139\" stroke=\"black\" d=\"M1947,-68C1947,-68 1861,-68 1861,-68 1855,-68 1849,-62 1849,-56 1849,-56 1849,-12 1849,-12 1849,-6 1855,0 1861,0 1861,0 1947,0 1947,0 1953,0 1959,-6 1959,-12 1959,-12 1959,-56 1959,-56 1959,-62 1953,-68 1947,-68\"/>\n<text text-anchor=\"start\" x=\"1876\" y=\"-52.8\" font-family=\"Helvetica,sans-Serif\" font-size=\"14.00\">gini = 0.0</text>\n<text text-anchor=\"start\" x=\"1866.5\" y=\"-37.8\" font-family=\"Helvetica,sans-Serif\" font-size=\"14.00\">samples = 4</text>\n<text text-anchor=\"start\" x=\"1857\" y=\"-22.8\" font-family=\"Helvetica,sans-Serif\" font-size=\"14.00\">value = [4, 0, 0]</text>\n<text text-anchor=\"start\" x=\"1876.5\" y=\"-7.8\" font-family=\"Helvetica,sans-Serif\" font-size=\"14.00\">class = 0</text>\n</g>\n<!-- 30&#45;&gt;32 -->\n<g id=\"edge32\" class=\"edge\">\n<title>30&#45;&gt;32</title>\n<path fill=\"none\" stroke=\"black\" d=\"M1874.5,-103.73C1878.14,-95.24 1881.99,-86.28 1885.66,-77.73\"/>\n<polygon fill=\"black\" stroke=\"black\" points=\"1888.98,-78.87 1889.71,-68.3 1882.55,-76.11 1888.98,-78.87\"/>\n</g>\n<!-- 34 -->\n<g id=\"node35\" class=\"node\">\n<title>34</title>\n<path fill=\"#8b49e7\" stroke=\"black\" d=\"M2265.5,-187C2265.5,-187 2034.5,-187 2034.5,-187 2028.5,-187 2022.5,-181 2022.5,-175 2022.5,-175 2022.5,-116 2022.5,-116 2022.5,-110 2028.5,-104 2034.5,-104 2034.5,-104 2265.5,-104 2265.5,-104 2271.5,-104 2277.5,-110 2277.5,-116 2277.5,-116 2277.5,-175 2277.5,-175 2277.5,-181 2271.5,-187 2265.5,-187\"/>\n<text text-anchor=\"start\" x=\"2030.5\" y=\"-171.8\" font-family=\"Helvetica,sans-Serif\" font-size=\"14.00\">Salary_In_Rupees_11,243,170.00 ≤ 0.5</text>\n<text text-anchor=\"start\" x=\"2114.5\" y=\"-156.8\" font-family=\"Helvetica,sans-Serif\" font-size=\"14.00\">gini = 0.136</text>\n<text text-anchor=\"start\" x=\"2109\" y=\"-141.8\" font-family=\"Helvetica,sans-Serif\" font-size=\"14.00\">samples = 68</text>\n<text text-anchor=\"start\" x=\"2099.5\" y=\"-126.8\" font-family=\"Helvetica,sans-Serif\" font-size=\"14.00\">value = [5, 0, 63]</text>\n<text text-anchor=\"start\" x=\"2115\" y=\"-111.8\" font-family=\"Helvetica,sans-Serif\" font-size=\"14.00\">class = 100</text>\n</g>\n<!-- 33&#45;&gt;34 -->\n<g id=\"edge34\" class=\"edge\">\n<title>33&#45;&gt;34</title>\n<path fill=\"none\" stroke=\"black\" d=\"M2150,-222.91C2150,-214.65 2150,-205.86 2150,-197.3\"/>\n<polygon fill=\"black\" stroke=\"black\" points=\"2153.5,-197.02 2150,-187.02 2146.5,-197.02 2153.5,-197.02\"/>\n</g>\n<!-- 37 -->\n<g id=\"node38\" class=\"node\">\n<title>37</title>\n<path fill=\"#e58139\" stroke=\"black\" d=\"M2394,-179.5C2394,-179.5 2308,-179.5 2308,-179.5 2302,-179.5 2296,-173.5 2296,-167.5 2296,-167.5 2296,-123.5 2296,-123.5 2296,-117.5 2302,-111.5 2308,-111.5 2308,-111.5 2394,-111.5 2394,-111.5 2400,-111.5 2406,-117.5 2406,-123.5 2406,-123.5 2406,-167.5 2406,-167.5 2406,-173.5 2400,-179.5 2394,-179.5\"/>\n<text text-anchor=\"start\" x=\"2323\" y=\"-164.3\" font-family=\"Helvetica,sans-Serif\" font-size=\"14.00\">gini = 0.0</text>\n<text text-anchor=\"start\" x=\"2313.5\" y=\"-149.3\" font-family=\"Helvetica,sans-Serif\" font-size=\"14.00\">samples = 2</text>\n<text text-anchor=\"start\" x=\"2304\" y=\"-134.3\" font-family=\"Helvetica,sans-Serif\" font-size=\"14.00\">value = [2, 0, 0]</text>\n<text text-anchor=\"start\" x=\"2323.5\" y=\"-119.3\" font-family=\"Helvetica,sans-Serif\" font-size=\"14.00\">class = 0</text>\n</g>\n<!-- 33&#45;&gt;37 -->\n<g id=\"edge37\" class=\"edge\">\n<title>33&#45;&gt;37</title>\n<path fill=\"none\" stroke=\"black\" d=\"M2224.37,-222.95C2244.8,-211.54 2266.87,-198.98 2287,-187 2288.11,-186.34 2289.23,-185.67 2290.36,-184.99\"/>\n<polygon fill=\"black\" stroke=\"black\" points=\"2292.38,-187.86 2299.1,-179.67 2288.74,-181.88 2292.38,-187.86\"/>\n</g>\n<!-- 35 -->\n<g id=\"node36\" class=\"node\">\n<title>35</title>\n<path fill=\"#8946e7\" stroke=\"black\" d=\"M2130.5,-68C2130.5,-68 2037.5,-68 2037.5,-68 2031.5,-68 2025.5,-62 2025.5,-56 2025.5,-56 2025.5,-12 2025.5,-12 2025.5,-6 2031.5,0 2037.5,0 2037.5,0 2130.5,0 2130.5,0 2136.5,0 2142.5,-6 2142.5,-12 2142.5,-12 2142.5,-56 2142.5,-56 2142.5,-62 2136.5,-68 2130.5,-68\"/>\n<text text-anchor=\"start\" x=\"2048.5\" y=\"-52.8\" font-family=\"Helvetica,sans-Serif\" font-size=\"14.00\">gini = 0.112</text>\n<text text-anchor=\"start\" x=\"2043\" y=\"-37.8\" font-family=\"Helvetica,sans-Serif\" font-size=\"14.00\">samples = 67</text>\n<text text-anchor=\"start\" x=\"2033.5\" y=\"-22.8\" font-family=\"Helvetica,sans-Serif\" font-size=\"14.00\">value = [4, 0, 63]</text>\n<text text-anchor=\"start\" x=\"2049\" y=\"-7.8\" font-family=\"Helvetica,sans-Serif\" font-size=\"14.00\">class = 100</text>\n</g>\n<!-- 34&#45;&gt;35 -->\n<g id=\"edge35\" class=\"edge\">\n<title>34&#45;&gt;35</title>\n<path fill=\"none\" stroke=\"black\" d=\"M2125.42,-103.73C2120.15,-94.97 2114.56,-85.7 2109.26,-76.91\"/>\n<polygon fill=\"black\" stroke=\"black\" points=\"2112.23,-75.06 2104.07,-68.3 2106.24,-78.67 2112.23,-75.06\"/>\n</g>\n<!-- 36 -->\n<g id=\"node37\" class=\"node\">\n<title>36</title>\n<path fill=\"#e58139\" stroke=\"black\" d=\"M2259,-68C2259,-68 2173,-68 2173,-68 2167,-68 2161,-62 2161,-56 2161,-56 2161,-12 2161,-12 2161,-6 2167,0 2173,0 2173,0 2259,0 2259,0 2265,0 2271,-6 2271,-12 2271,-12 2271,-56 2271,-56 2271,-62 2265,-68 2259,-68\"/>\n<text text-anchor=\"start\" x=\"2188\" y=\"-52.8\" font-family=\"Helvetica,sans-Serif\" font-size=\"14.00\">gini = 0.0</text>\n<text text-anchor=\"start\" x=\"2178.5\" y=\"-37.8\" font-family=\"Helvetica,sans-Serif\" font-size=\"14.00\">samples = 1</text>\n<text text-anchor=\"start\" x=\"2169\" y=\"-22.8\" font-family=\"Helvetica,sans-Serif\" font-size=\"14.00\">value = [1, 0, 0]</text>\n<text text-anchor=\"start\" x=\"2188.5\" y=\"-7.8\" font-family=\"Helvetica,sans-Serif\" font-size=\"14.00\">class = 0</text>\n</g>\n<!-- 34&#45;&gt;36 -->\n<g id=\"edge36\" class=\"edge\">\n<title>34&#45;&gt;36</title>\n<path fill=\"none\" stroke=\"black\" d=\"M2174.58,-103.73C2179.85,-94.97 2185.44,-85.7 2190.74,-76.91\"/>\n<polygon fill=\"black\" stroke=\"black\" points=\"2193.76,-78.67 2195.93,-68.3 2187.77,-75.06 2193.76,-78.67\"/>\n</g>\n</g>\n</svg>\n",
            "text/plain": [
              "<graphviz.sources.Source at 0x7b2691a3c0d0>"
            ]
          },
          "metadata": {},
          "execution_count": 22
        }
      ]
    }
  ]
}